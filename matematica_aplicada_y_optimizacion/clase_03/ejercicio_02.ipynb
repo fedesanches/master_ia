{
 "cells": [
  {
   "cell_type": "markdown",
   "metadata": {},
   "source": [
    "Utilizando backtracking line search para determinar el tamaño del paso. Minimizar la función de Ro-\n",
    "senbrock\n",
    "f(x1,x2) = 100(x2 −x21)2 + (1 −x1)2.\n",
    "Utilice expresiones analíticas para el gradiente y el Hessiano. Establecer la longitud de paso inicial\n",
    "α0 = 1 e imprimir la longitud de paso utilizada por cada método en cada iteración. Primero probar el\n",
    "punto inicial x0 = (1.2,1.2)Ty luego el punto de inicio más difícil x0 = (−1.2,1)T."
   ]
  },
  {
   "cell_type": "markdown",
   "metadata": {},
   "source": []
  }
 ],
 "metadata": {
  "language_info": {
   "name": "python"
  }
 },
 "nbformat": 4,
 "nbformat_minor": 2
}
