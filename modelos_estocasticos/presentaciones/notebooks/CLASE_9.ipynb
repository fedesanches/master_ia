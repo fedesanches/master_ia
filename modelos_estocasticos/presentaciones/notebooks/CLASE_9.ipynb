{
  "cells": [
    {
      "cell_type": "markdown",
      "id": "be223a2e",
      "metadata": {
        "id": "be223a2e"
      },
      "source": [
        "# Modelado Estocástico\n",
        "## Clase 9 - Modelos VAR (Vector Autoregressions)"
      ]
    },
    {
      "cell_type": "code",
      "source": [
        "!pip install arch"
      ],
      "metadata": {
        "colab": {
          "base_uri": "https://localhost:8080/"
        },
        "id": "rrYNkF6qjiBd",
        "outputId": "031ae3eb-00ae-479e-a48e-57c9ee36b9f7"
      },
      "id": "rrYNkF6qjiBd",
      "execution_count": null,
      "outputs": [
        {
          "output_type": "stream",
          "name": "stdout",
          "text": [
            "Requirement already satisfied: arch in /usr/local/lib/python3.12/dist-packages (7.2.0)\n",
            "Requirement already satisfied: numpy>=1.22.3 in /usr/local/lib/python3.12/dist-packages (from arch) (2.0.2)\n",
            "Requirement already satisfied: scipy>=1.8 in /usr/local/lib/python3.12/dist-packages (from arch) (1.16.1)\n",
            "Requirement already satisfied: pandas>=1.4 in /usr/local/lib/python3.12/dist-packages (from arch) (2.2.2)\n",
            "Requirement already satisfied: statsmodels>=0.12 in /usr/local/lib/python3.12/dist-packages (from arch) (0.14.5)\n",
            "Requirement already satisfied: python-dateutil>=2.8.2 in /usr/local/lib/python3.12/dist-packages (from pandas>=1.4->arch) (2.9.0.post0)\n",
            "Requirement already satisfied: pytz>=2020.1 in /usr/local/lib/python3.12/dist-packages (from pandas>=1.4->arch) (2025.2)\n",
            "Requirement already satisfied: tzdata>=2022.7 in /usr/local/lib/python3.12/dist-packages (from pandas>=1.4->arch) (2025.2)\n",
            "Requirement already satisfied: patsy>=0.5.6 in /usr/local/lib/python3.12/dist-packages (from statsmodels>=0.12->arch) (1.0.1)\n",
            "Requirement already satisfied: packaging>=21.3 in /usr/local/lib/python3.12/dist-packages (from statsmodels>=0.12->arch) (25.0)\n",
            "Requirement already satisfied: six>=1.5 in /usr/local/lib/python3.12/dist-packages (from python-dateutil>=2.8.2->pandas>=1.4->arch) (1.17.0)\n"
          ]
        }
      ]
    },
    {
      "cell_type": "code",
      "execution_count": null,
      "id": "c4ca89d0",
      "metadata": {
        "id": "c4ca89d0"
      },
      "outputs": [],
      "source": [
        "import pandas as pd\n",
        "import numpy as np\n",
        "from statsmodels.tsa.api import VAR\n",
        "from arch.unitroot import DFGLS\n"
      ]
    },
    {
      "cell_type": "markdown",
      "id": "ada4e269",
      "metadata": {
        "id": "ada4e269"
      },
      "source": [
        "Pandas nos permite abrir archvios de tipo `.dta`. para eso podemos utilizar el método `read_stata`. En este caso vamos a utilizar el archivo llamado `Precios_y_Dinero`."
      ]
    },
    {
      "cell_type": "code",
      "source": [
        "df = pd.read_stata(\"/content/Precios_y_Dinero_data.dta\")\n",
        "print(df.columns.tolist())"
      ],
      "metadata": {
        "id": "Q3sggk03oUdq",
        "colab": {
          "base_uri": "https://localhost:8080/"
        },
        "outputId": "0e8db7e7-323c-40f8-e0a4-1c4a2dafc559"
      },
      "id": "Q3sggk03oUdq",
      "execution_count": null,
      "outputs": [
        {
          "output_type": "stream",
          "name": "stdout",
          "text": [
            "['mmyy', 'ipc', 'm', 'm_en_ars']\n"
          ]
        }
      ]
    },
    {
      "cell_type": "markdown",
      "id": "a96d123f",
      "metadata": {
        "id": "a96d123f"
      },
      "source": [
        "Además, vamos a generar un índice asociado al período mensual correspondiente, para eso construímos la columna `period`."
      ]
    },
    {
      "cell_type": "code",
      "execution_count": null,
      "id": "93973619",
      "metadata": {
        "colab": {
          "base_uri": "https://localhost:8080/",
          "height": 238
        },
        "id": "93973619",
        "outputId": "5d59a25e-f06f-4429-9a6e-88bfc377e5a7"
      },
      "outputs": [
        {
          "output_type": "execute_result",
          "data": {
            "text/plain": [
              "           mmyy     ipc       m  m_en_ars\n",
              "yearmm                                   \n",
              "2003-01  Jan-03  100.00  100.00  29609.92\n",
              "2003-02  Feb-03  100.57   99.36  29420.37\n",
              "2003-03  Mar-03  101.16  102.63  30388.08\n",
              "2003-04  Apr-03  101.21  104.26  30870.99\n",
              "2003-05  May-03  100.82  111.80  33105.17"
            ],
            "text/html": [
              "\n",
              "  <div id=\"df-ccb099a6-f71b-4e68-b67a-5caffdaa7f55\" class=\"colab-df-container\">\n",
              "    <div>\n",
              "<style scoped>\n",
              "    .dataframe tbody tr th:only-of-type {\n",
              "        vertical-align: middle;\n",
              "    }\n",
              "\n",
              "    .dataframe tbody tr th {\n",
              "        vertical-align: top;\n",
              "    }\n",
              "\n",
              "    .dataframe thead th {\n",
              "        text-align: right;\n",
              "    }\n",
              "</style>\n",
              "<table border=\"1\" class=\"dataframe\">\n",
              "  <thead>\n",
              "    <tr style=\"text-align: right;\">\n",
              "      <th></th>\n",
              "      <th>mmyy</th>\n",
              "      <th>ipc</th>\n",
              "      <th>m</th>\n",
              "      <th>m_en_ars</th>\n",
              "    </tr>\n",
              "    <tr>\n",
              "      <th>yearmm</th>\n",
              "      <th></th>\n",
              "      <th></th>\n",
              "      <th></th>\n",
              "      <th></th>\n",
              "    </tr>\n",
              "  </thead>\n",
              "  <tbody>\n",
              "    <tr>\n",
              "      <th>2003-01</th>\n",
              "      <td>Jan-03</td>\n",
              "      <td>100.00</td>\n",
              "      <td>100.00</td>\n",
              "      <td>29609.92</td>\n",
              "    </tr>\n",
              "    <tr>\n",
              "      <th>2003-02</th>\n",
              "      <td>Feb-03</td>\n",
              "      <td>100.57</td>\n",
              "      <td>99.36</td>\n",
              "      <td>29420.37</td>\n",
              "    </tr>\n",
              "    <tr>\n",
              "      <th>2003-03</th>\n",
              "      <td>Mar-03</td>\n",
              "      <td>101.16</td>\n",
              "      <td>102.63</td>\n",
              "      <td>30388.08</td>\n",
              "    </tr>\n",
              "    <tr>\n",
              "      <th>2003-04</th>\n",
              "      <td>Apr-03</td>\n",
              "      <td>101.21</td>\n",
              "      <td>104.26</td>\n",
              "      <td>30870.99</td>\n",
              "    </tr>\n",
              "    <tr>\n",
              "      <th>2003-05</th>\n",
              "      <td>May-03</td>\n",
              "      <td>100.82</td>\n",
              "      <td>111.80</td>\n",
              "      <td>33105.17</td>\n",
              "    </tr>\n",
              "  </tbody>\n",
              "</table>\n",
              "</div>\n",
              "    <div class=\"colab-df-buttons\">\n",
              "\n",
              "  <div class=\"colab-df-container\">\n",
              "    <button class=\"colab-df-convert\" onclick=\"convertToInteractive('df-ccb099a6-f71b-4e68-b67a-5caffdaa7f55')\"\n",
              "            title=\"Convert this dataframe to an interactive table.\"\n",
              "            style=\"display:none;\">\n",
              "\n",
              "  <svg xmlns=\"http://www.w3.org/2000/svg\" height=\"24px\" viewBox=\"0 -960 960 960\">\n",
              "    <path d=\"M120-120v-720h720v720H120Zm60-500h600v-160H180v160Zm220 220h160v-160H400v160Zm0 220h160v-160H400v160ZM180-400h160v-160H180v160Zm440 0h160v-160H620v160ZM180-180h160v-160H180v160Zm440 0h160v-160H620v160Z\"/>\n",
              "  </svg>\n",
              "    </button>\n",
              "\n",
              "  <style>\n",
              "    .colab-df-container {\n",
              "      display:flex;\n",
              "      gap: 12px;\n",
              "    }\n",
              "\n",
              "    .colab-df-convert {\n",
              "      background-color: #E8F0FE;\n",
              "      border: none;\n",
              "      border-radius: 50%;\n",
              "      cursor: pointer;\n",
              "      display: none;\n",
              "      fill: #1967D2;\n",
              "      height: 32px;\n",
              "      padding: 0 0 0 0;\n",
              "      width: 32px;\n",
              "    }\n",
              "\n",
              "    .colab-df-convert:hover {\n",
              "      background-color: #E2EBFA;\n",
              "      box-shadow: 0px 1px 2px rgba(60, 64, 67, 0.3), 0px 1px 3px 1px rgba(60, 64, 67, 0.15);\n",
              "      fill: #174EA6;\n",
              "    }\n",
              "\n",
              "    .colab-df-buttons div {\n",
              "      margin-bottom: 4px;\n",
              "    }\n",
              "\n",
              "    [theme=dark] .colab-df-convert {\n",
              "      background-color: #3B4455;\n",
              "      fill: #D2E3FC;\n",
              "    }\n",
              "\n",
              "    [theme=dark] .colab-df-convert:hover {\n",
              "      background-color: #434B5C;\n",
              "      box-shadow: 0px 1px 3px 1px rgba(0, 0, 0, 0.15);\n",
              "      filter: drop-shadow(0px 1px 2px rgba(0, 0, 0, 0.3));\n",
              "      fill: #FFFFFF;\n",
              "    }\n",
              "  </style>\n",
              "\n",
              "    <script>\n",
              "      const buttonEl =\n",
              "        document.querySelector('#df-ccb099a6-f71b-4e68-b67a-5caffdaa7f55 button.colab-df-convert');\n",
              "      buttonEl.style.display =\n",
              "        google.colab.kernel.accessAllowed ? 'block' : 'none';\n",
              "\n",
              "      async function convertToInteractive(key) {\n",
              "        const element = document.querySelector('#df-ccb099a6-f71b-4e68-b67a-5caffdaa7f55');\n",
              "        const dataTable =\n",
              "          await google.colab.kernel.invokeFunction('convertToInteractive',\n",
              "                                                    [key], {});\n",
              "        if (!dataTable) return;\n",
              "\n",
              "        const docLinkHtml = 'Like what you see? Visit the ' +\n",
              "          '<a target=\"_blank\" href=https://colab.research.google.com/notebooks/data_table.ipynb>data table notebook</a>'\n",
              "          + ' to learn more about interactive tables.';\n",
              "        element.innerHTML = '';\n",
              "        dataTable['output_type'] = 'display_data';\n",
              "        await google.colab.output.renderOutput(dataTable, element);\n",
              "        const docLink = document.createElement('div');\n",
              "        docLink.innerHTML = docLinkHtml;\n",
              "        element.appendChild(docLink);\n",
              "      }\n",
              "    </script>\n",
              "  </div>\n",
              "\n",
              "\n",
              "    <div id=\"df-3721b4ce-02fe-4501-b933-f50f70200d26\">\n",
              "      <button class=\"colab-df-quickchart\" onclick=\"quickchart('df-3721b4ce-02fe-4501-b933-f50f70200d26')\"\n",
              "                title=\"Suggest charts\"\n",
              "                style=\"display:none;\">\n",
              "\n",
              "<svg xmlns=\"http://www.w3.org/2000/svg\" height=\"24px\"viewBox=\"0 0 24 24\"\n",
              "     width=\"24px\">\n",
              "    <g>\n",
              "        <path d=\"M19 3H5c-1.1 0-2 .9-2 2v14c0 1.1.9 2 2 2h14c1.1 0 2-.9 2-2V5c0-1.1-.9-2-2-2zM9 17H7v-7h2v7zm4 0h-2V7h2v10zm4 0h-2v-4h2v4z\"/>\n",
              "    </g>\n",
              "</svg>\n",
              "      </button>\n",
              "\n",
              "<style>\n",
              "  .colab-df-quickchart {\n",
              "      --bg-color: #E8F0FE;\n",
              "      --fill-color: #1967D2;\n",
              "      --hover-bg-color: #E2EBFA;\n",
              "      --hover-fill-color: #174EA6;\n",
              "      --disabled-fill-color: #AAA;\n",
              "      --disabled-bg-color: #DDD;\n",
              "  }\n",
              "\n",
              "  [theme=dark] .colab-df-quickchart {\n",
              "      --bg-color: #3B4455;\n",
              "      --fill-color: #D2E3FC;\n",
              "      --hover-bg-color: #434B5C;\n",
              "      --hover-fill-color: #FFFFFF;\n",
              "      --disabled-bg-color: #3B4455;\n",
              "      --disabled-fill-color: #666;\n",
              "  }\n",
              "\n",
              "  .colab-df-quickchart {\n",
              "    background-color: var(--bg-color);\n",
              "    border: none;\n",
              "    border-radius: 50%;\n",
              "    cursor: pointer;\n",
              "    display: none;\n",
              "    fill: var(--fill-color);\n",
              "    height: 32px;\n",
              "    padding: 0;\n",
              "    width: 32px;\n",
              "  }\n",
              "\n",
              "  .colab-df-quickchart:hover {\n",
              "    background-color: var(--hover-bg-color);\n",
              "    box-shadow: 0 1px 2px rgba(60, 64, 67, 0.3), 0 1px 3px 1px rgba(60, 64, 67, 0.15);\n",
              "    fill: var(--button-hover-fill-color);\n",
              "  }\n",
              "\n",
              "  .colab-df-quickchart-complete:disabled,\n",
              "  .colab-df-quickchart-complete:disabled:hover {\n",
              "    background-color: var(--disabled-bg-color);\n",
              "    fill: var(--disabled-fill-color);\n",
              "    box-shadow: none;\n",
              "  }\n",
              "\n",
              "  .colab-df-spinner {\n",
              "    border: 2px solid var(--fill-color);\n",
              "    border-color: transparent;\n",
              "    border-bottom-color: var(--fill-color);\n",
              "    animation:\n",
              "      spin 1s steps(1) infinite;\n",
              "  }\n",
              "\n",
              "  @keyframes spin {\n",
              "    0% {\n",
              "      border-color: transparent;\n",
              "      border-bottom-color: var(--fill-color);\n",
              "      border-left-color: var(--fill-color);\n",
              "    }\n",
              "    20% {\n",
              "      border-color: transparent;\n",
              "      border-left-color: var(--fill-color);\n",
              "      border-top-color: var(--fill-color);\n",
              "    }\n",
              "    30% {\n",
              "      border-color: transparent;\n",
              "      border-left-color: var(--fill-color);\n",
              "      border-top-color: var(--fill-color);\n",
              "      border-right-color: var(--fill-color);\n",
              "    }\n",
              "    40% {\n",
              "      border-color: transparent;\n",
              "      border-right-color: var(--fill-color);\n",
              "      border-top-color: var(--fill-color);\n",
              "    }\n",
              "    60% {\n",
              "      border-color: transparent;\n",
              "      border-right-color: var(--fill-color);\n",
              "    }\n",
              "    80% {\n",
              "      border-color: transparent;\n",
              "      border-right-color: var(--fill-color);\n",
              "      border-bottom-color: var(--fill-color);\n",
              "    }\n",
              "    90% {\n",
              "      border-color: transparent;\n",
              "      border-bottom-color: var(--fill-color);\n",
              "    }\n",
              "  }\n",
              "</style>\n",
              "\n",
              "      <script>\n",
              "        async function quickchart(key) {\n",
              "          const quickchartButtonEl =\n",
              "            document.querySelector('#' + key + ' button');\n",
              "          quickchartButtonEl.disabled = true;  // To prevent multiple clicks.\n",
              "          quickchartButtonEl.classList.add('colab-df-spinner');\n",
              "          try {\n",
              "            const charts = await google.colab.kernel.invokeFunction(\n",
              "                'suggestCharts', [key], {});\n",
              "          } catch (error) {\n",
              "            console.error('Error during call to suggestCharts:', error);\n",
              "          }\n",
              "          quickchartButtonEl.classList.remove('colab-df-spinner');\n",
              "          quickchartButtonEl.classList.add('colab-df-quickchart-complete');\n",
              "        }\n",
              "        (() => {\n",
              "          let quickchartButtonEl =\n",
              "            document.querySelector('#df-3721b4ce-02fe-4501-b933-f50f70200d26 button');\n",
              "          quickchartButtonEl.style.display =\n",
              "            google.colab.kernel.accessAllowed ? 'block' : 'none';\n",
              "        })();\n",
              "      </script>\n",
              "    </div>\n",
              "\n",
              "    </div>\n",
              "  </div>\n"
            ],
            "application/vnd.google.colaboratory.intrinsic+json": {
              "type": "dataframe",
              "variable_name": "df",
              "summary": "{\n  \"name\": \"df\",\n  \"rows\": 185,\n  \"fields\": [\n    {\n      \"column\": \"yearmm\",\n      \"properties\": {\n        \"dtype\": \"period[M]\",\n        \"num_unique_values\": 185,\n        \"samples\": [\n          \"2004-08\",\n          \"2006-07\",\n          \"2016-01\"\n        ],\n        \"semantic_type\": \"\",\n        \"description\": \"\"\n      }\n    },\n    {\n      \"column\": \"mmyy\",\n      \"properties\": {\n        \"dtype\": \"string\",\n        \"num_unique_values\": 184,\n        \"samples\": [\n          \"Aug-04\",\n          \"Jul-06\",\n          \"Jan-16\"\n        ],\n        \"semantic_type\": \"\",\n        \"description\": \"\"\n      }\n    },\n    {\n      \"column\": \"ipc\",\n      \"properties\": {\n        \"dtype\": \"number\",\n        \"std\": 515.586820644961,\n        \"min\": 100.0,\n        \"max\": 1998.1,\n        \"num_unique_values\": 182,\n        \"samples\": [\n          107.22,\n          130.58,\n          1075.76\n        ],\n        \"semantic_type\": \"\",\n        \"description\": \"\"\n      }\n    },\n    {\n      \"column\": \"m\",\n      \"properties\": {\n        \"dtype\": \"number\",\n        \"std\": 907.9230266701169,\n        \"min\": 99.36,\n        \"max\": 3474.21,\n        \"num_unique_values\": 182,\n        \"samples\": [\n          157.07,\n          227.18,\n          2036.23\n        ],\n        \"semantic_type\": \"\",\n        \"description\": \"\"\n      }\n    },\n    {\n      \"column\": \"m_en_ars\",\n      \"properties\": {\n        \"dtype\": \"string\",\n        \"num_unique_values\": 182,\n        \"samples\": [\n          \"46507.05\",\n          \"67267.49\",\n          \"602925.99\"\n        ],\n        \"semantic_type\": \"\",\n        \"description\": \"\"\n      }\n    }\n  ]\n}"
            }
          },
          "metadata": {},
          "execution_count": 18
        }
      ],
      "source": [
        "inicio = pd.to_datetime(df['mmyy'].iloc[0], format='%b-%y').strftime('%Y-%m')\n",
        "df[\"yearmm\"] = pd.period_range(start=inicio, periods=len(df), freq=\"M\")\n",
        "df = df.set_index(\"yearmm\")\n",
        "df['ipc'] = df['ipc'].astype(float)\n",
        "df['m'] = df['m'].astype(float)\n",
        "df.head()"
      ]
    },
    {
      "cell_type": "markdown",
      "id": "2357e5c2",
      "metadata": {
        "id": "2357e5c2"
      },
      "source": [
        "Generamos las variables Inflación y Tasa de Crecimiento de la Base Monetaria"
      ]
    },
    {
      "cell_type": "code",
      "execution_count": null,
      "id": "4e194d1b",
      "metadata": {
        "id": "4e194d1b"
      },
      "outputs": [],
      "source": [
        "df[\"infl\"] = df[\"ipc\"] / df[\"ipc\"].shift(1) - 1\n",
        "df[\"crec_m\"] = df[\"m\"] / df[\"m\"].shift(1) - 1\n",
        "df = df[['infl','crec_m']]\n"
      ]
    },
    {
      "cell_type": "markdown",
      "id": "a9ef21c1",
      "metadata": {
        "id": "a9ef21c1"
      },
      "source": [
        "## Chequeo de estacionariedad utilizando la prueba de Dickey-Fuller GLS\n",
        "\n",
        "Debemos corrobar que sean estacionarias. Para eso tenemos diferentes alternativas, acorde con lo visto en clase vamos a utilizar una biblioteca (`arch`) que desarrolla la prueba de Dickey-Fuller GLS (Elliott-Rothenberg-Stock) en línea con el uso del comando `dfgls` de Stata."
      ]
    },
    {
      "cell_type": "code",
      "execution_count": null,
      "id": "917a2eec",
      "metadata": {
        "colab": {
          "base_uri": "https://localhost:8080/"
        },
        "id": "917a2eec",
        "outputId": "0b8cd4ff-6812-43fa-fd09-8cc91fe10e48"
      },
      "outputs": [
        {
          "output_type": "stream",
          "name": "stdout",
          "text": [
            "Inflación\n",
            "      Dickey-Fuller GLS Results      \n",
            "=====================================\n",
            "Test Statistic                 -5.451\n",
            "P-value                         0.000\n",
            "Lags                                1\n",
            "-------------------------------------\n",
            "\n",
            "Trend: Constant and Linear Time Trend\n",
            "Critical Values: -3.53 (1%), -2.95 (5%), -2.66 (10%)\n",
            "Null Hypothesis: The process contains a unit root.\n",
            "Alternative Hypothesis: The process is weakly stationary.\n"
          ]
        }
      ],
      "source": [
        "test = DFGLS(df[\"infl\"].dropna(),trend=\"ct\")\n",
        "print(\"Inflación\")\n",
        "print(test.summary())"
      ]
    },
    {
      "cell_type": "code",
      "execution_count": null,
      "id": "2089fefa",
      "metadata": {
        "colab": {
          "base_uri": "https://localhost:8080/"
        },
        "id": "2089fefa",
        "outputId": "64db7495-76b6-4374-bdc8-680775c111d6"
      },
      "outputs": [
        {
          "output_type": "stream",
          "name": "stdout",
          "text": [
            "Tasa de Crecimiento de la Base Monetaria\n",
            "      Dickey-Fuller GLS Results      \n",
            "=====================================\n",
            "Test Statistic                 -2.946\n",
            "P-value                         0.040\n",
            "Lags                               14\n",
            "-------------------------------------\n",
            "\n",
            "Trend: Constant and Linear Time Trend\n",
            "Critical Values: -3.53 (1%), -2.96 (5%), -2.67 (10%)\n",
            "Null Hypothesis: The process contains a unit root.\n",
            "Alternative Hypothesis: The process is weakly stationary.\n"
          ]
        }
      ],
      "source": [
        "test = DFGLS(df[\"crec_m\"].dropna(),trend=\"ct\")\n",
        "print(\"Tasa de Crecimiento de la Base Monetaria\")\n",
        "print(test.summary())"
      ]
    },
    {
      "cell_type": "markdown",
      "id": "0358bf7d",
      "metadata": {
        "id": "0358bf7d"
      },
      "source": [
        "## Corremos el VAR(2) bivariado"
      ]
    },
    {
      "cell_type": "code",
      "execution_count": null,
      "id": "724a74ad",
      "metadata": {
        "colab": {
          "base_uri": "https://localhost:8080/"
        },
        "id": "724a74ad",
        "outputId": "cb6390aa-3ae5-4b59-f4de-597412e2f3fa"
      },
      "outputs": [
        {
          "output_type": "stream",
          "name": "stdout",
          "text": [
            "  Summary of Regression Results   \n",
            "==================================\n",
            "Model:                         VAR\n",
            "Method:                        OLS\n",
            "Date:           Sat, 23, Aug, 2025\n",
            "Time:                     03:11:01\n",
            "--------------------------------------------------------------------\n",
            "No. of Equations:         2.00000    BIC:                   -16.6022\n",
            "Nobs:                     182.000    HQIC:                  -16.7069\n",
            "Log likelihood:           1020.33    FPE:                5.16789e-08\n",
            "AIC:                     -16.7782    Det(Omega_mle):     4.89523e-08\n",
            "--------------------------------------------------------------------\n",
            "Results for equation infl\n",
            "============================================================================\n",
            "               coefficient       std. error           t-stat            prob\n",
            "----------------------------------------------------------------------------\n",
            "const             0.004224         0.001340            3.151           0.002\n",
            "L1.infl           0.517731         0.075813            6.829           0.000\n",
            "L1.crec_m         0.020715         0.020682            1.002           0.317\n",
            "L2.infl           0.211112         0.077033            2.741           0.006\n",
            "L2.crec_m        -0.007078         0.020224           -0.350           0.726\n",
            "============================================================================\n",
            "\n",
            "Results for equation crec_m\n",
            "============================================================================\n",
            "               coefficient       std. error           t-stat            prob\n",
            "----------------------------------------------------------------------------\n",
            "const             0.026837         0.004744            5.657           0.000\n",
            "L1.infl          -0.799904         0.268292           -2.981           0.003\n",
            "L1.crec_m         0.156087         0.073191            2.133           0.033\n",
            "L2.infl           0.454584         0.272610            1.668           0.095\n",
            "L2.crec_m        -0.212948         0.071570           -2.975           0.003\n",
            "============================================================================\n",
            "\n",
            "Correlation matrix of residuals\n",
            "              infl    crec_m\n",
            "infl      1.000000  0.083975\n",
            "crec_m    0.083975  1.000000\n",
            "\n",
            "\n",
            "\n"
          ]
        }
      ],
      "source": [
        "model = VAR(df[[\"infl\", \"crec_m\"]].dropna())\n",
        "result_var2 = model.fit(2)\n",
        "print(result_var2.summary())"
      ]
    },
    {
      "cell_type": "markdown",
      "id": "4adf5cdb",
      "metadata": {
        "id": "4adf5cdb"
      },
      "source": [
        "### Selection Order Criteria"
      ]
    },
    {
      "cell_type": "code",
      "execution_count": null,
      "id": "025103a1",
      "metadata": {
        "colab": {
          "base_uri": "https://localhost:8080/"
        },
        "id": "025103a1",
        "outputId": "61c5a2a2-4248-4a83-e017-e7788aef2044"
      },
      "outputs": [
        {
          "output_type": "stream",
          "name": "stdout",
          "text": [
            " VAR Order Selection (* highlights the minimums)  \n",
            "==================================================\n",
            "       AIC         BIC         FPE         HQIC   \n",
            "--------------------------------------------------\n",
            "0       -16.27      -16.24   8.561e-08      -16.26\n",
            "1       -16.73     -16.62*   5.441e-08      -16.68\n",
            "2       -16.79      -16.60   5.127e-08      -16.71\n",
            "3       -16.83      -16.57   4.923e-08     -16.72*\n",
            "4       -16.82      -16.49   4.935e-08      -16.69\n",
            "5       -16.81      -16.40   5.025e-08      -16.64\n",
            "6       -16.82      -16.34   4.960e-08      -16.63\n",
            "7       -16.84      -16.29   4.863e-08      -16.62\n",
            "8       -16.83      -16.20   4.918e-08      -16.57\n",
            "9       -16.81      -16.11   5.025e-08      -16.52\n",
            "10      -16.87      -16.10   4.714e-08      -16.56\n",
            "11      -16.86      -16.01   4.764e-08      -16.52\n",
            "12      -16.98      -16.06   4.232e-08      -16.61\n",
            "13     -16.99*      -15.99  4.225e-08*      -16.58\n",
            "14      -16.95      -15.88   4.377e-08      -16.52\n",
            "--------------------------------------------------\n"
          ]
        }
      ],
      "source": [
        "print(model.select_order().summary())\n"
      ]
    },
    {
      "cell_type": "markdown",
      "id": "7657d097",
      "metadata": {
        "id": "7657d097"
      },
      "source": [
        "### VAR(8) bivariado"
      ]
    },
    {
      "cell_type": "code",
      "execution_count": null,
      "id": "8c1aa0a8",
      "metadata": {
        "colab": {
          "base_uri": "https://localhost:8080/"
        },
        "id": "8c1aa0a8",
        "outputId": "0173bef2-23dd-40b8-a085-3353cd146a1b"
      },
      "outputs": [
        {
          "output_type": "stream",
          "name": "stdout",
          "text": [
            "  Summary of Regression Results   \n",
            "==================================\n",
            "Model:                         VAR\n",
            "Method:                        OLS\n",
            "Date:           Sat, 23, Aug, 2025\n",
            "Time:                     03:11:24\n",
            "--------------------------------------------------------------------\n",
            "No. of Equations:         2.00000    BIC:                   -16.2262\n",
            "Nobs:                     176.000    HQIC:                  -16.5903\n",
            "Log likelihood:           1016.34    FPE:                4.87039e-08\n",
            "AIC:                     -16.8387    Det(Omega_mle):     4.05018e-08\n",
            "--------------------------------------------------------------------\n",
            "Results for equation infl\n",
            "============================================================================\n",
            "               coefficient       std. error           t-stat            prob\n",
            "----------------------------------------------------------------------------\n",
            "const             0.002599         0.001841            1.411           0.158\n",
            "L1.infl           0.498804         0.080740            6.178           0.000\n",
            "L1.crec_m         0.020150         0.023985            0.840           0.401\n",
            "L2.infl           0.211633         0.092427            2.290           0.022\n",
            "L2.crec_m        -0.015672         0.023358           -0.671           0.502\n",
            "L3.infl          -0.094631         0.093826           -1.009           0.313\n",
            "L3.crec_m         0.048854         0.023386            2.089           0.037\n",
            "L4.infl          -0.015633         0.093737           -0.167           0.868\n",
            "L4.crec_m         0.025179         0.023119            1.089           0.276\n",
            "L5.infl           0.092518         0.093633            0.988           0.323\n",
            "L5.crec_m        -0.032010         0.023086           -1.387           0.166\n",
            "L6.infl           0.038728         0.095377            0.406           0.685\n",
            "L6.crec_m         0.002751         0.023177            0.119           0.906\n",
            "L7.infl          -0.121903         0.092882           -1.312           0.189\n",
            "L7.crec_m         0.025200         0.023266            1.083           0.279\n",
            "L8.infl           0.155183         0.083654            1.855           0.064\n",
            "L8.crec_m         0.004385         0.022798            0.192           0.847\n",
            "============================================================================\n",
            "\n",
            "Results for equation crec_m\n",
            "============================================================================\n",
            "               coefficient       std. error           t-stat            prob\n",
            "----------------------------------------------------------------------------\n",
            "const             0.012008         0.006073            1.977           0.048\n",
            "L1.infl          -0.643278         0.266272           -2.416           0.016\n",
            "L1.crec_m         0.033085         0.079099            0.418           0.676\n",
            "L2.infl          -0.159614         0.304814           -0.524           0.601\n",
            "L2.crec_m        -0.226966         0.077033           -2.946           0.003\n",
            "L3.infl           0.389656         0.309426            1.259           0.208\n",
            "L3.crec_m         0.052853         0.077124            0.685           0.493\n",
            "L4.infl          -0.021205         0.309133           -0.069           0.945\n",
            "L4.crec_m        -0.164462         0.076244           -2.157           0.031\n",
            "L5.infl          -0.050084         0.308789           -0.162           0.871\n",
            "L5.crec_m         0.120015         0.076133            1.576           0.115\n",
            "L6.infl          -0.075735         0.314542           -0.241           0.810\n",
            "L6.crec_m         0.216374         0.076436            2.831           0.005\n",
            "L7.infl           0.440318         0.306312            1.437           0.151\n",
            "L7.crec_m         0.177019         0.076727            2.307           0.021\n",
            "L8.infl           0.407698         0.275881            1.478           0.139\n",
            "L8.crec_m        -0.077399         0.075185           -1.029           0.303\n",
            "============================================================================\n",
            "\n",
            "Correlation matrix of residuals\n",
            "              infl    crec_m\n",
            "infl      1.000000  0.116498\n",
            "crec_m    0.116498  1.000000\n",
            "\n",
            "\n",
            "\n"
          ]
        }
      ],
      "source": [
        "result_var8 = model.fit(8)\n",
        "print(result_var8.summary())"
      ]
    },
    {
      "cell_type": "markdown",
      "id": "41fc1e86",
      "metadata": {
        "id": "41fc1e86"
      },
      "source": [
        "### Estabilidad del VAR (chequeo que no haya raices unitarias)"
      ]
    },
    {
      "cell_type": "code",
      "execution_count": null,
      "id": "7e1df867",
      "metadata": {
        "colab": {
          "base_uri": "https://localhost:8080/",
          "height": 86
        },
        "id": "7e1df867",
        "outputId": "0161800d-cc9a-42e0-f5c4-03046c8b6b65"
      },
      "outputs": [
        {
          "output_type": "stream",
          "name": "stdout",
          "text": [
            "Raíces del VAR(2):\n"
          ]
        },
        {
          "output_type": "display_data",
          "data": {
            "text/plain": [
              "array([-4.10053618-0.j        ,  0.30599245+2.11843778j,\n",
              "        0.30599245-2.11843778j,  1.27533308-0.j        ])"
            ]
          },
          "metadata": {}
        },
        {
          "output_type": "stream",
          "name": "stdout",
          "text": [
            "[4.10053618 2.14042286 2.14042286 1.27533308]\n"
          ]
        }
      ],
      "source": [
        "roots = result_var2.roots\n",
        "print(\"Raíces del VAR(2):\")\n",
        "display(roots)\n",
        "print(np.abs(result_var2.roots))\n"
      ]
    },
    {
      "cell_type": "markdown",
      "id": "13cf2119",
      "metadata": {
        "id": "13cf2119"
      },
      "source": [
        "### Testeo si los residuos estan autocorrelacionados"
      ]
    },
    {
      "cell_type": "markdown",
      "source": [
        "Este test no es exactamente el de Stata, pero es similar"
      ],
      "metadata": {
        "id": "T5oXFf0S-_E-"
      },
      "id": "T5oXFf0S-_E-"
    },
    {
      "cell_type": "code",
      "source": [
        "wb = result_var2.test_whiteness(nlags=12)\n",
        "print(wb)"
      ],
      "metadata": {
        "colab": {
          "base_uri": "https://localhost:8080/"
        },
        "id": "d8mJXKAi-7UZ",
        "outputId": "1b2c3355-648b-4fe8-c684-470cf7f31b61"
      },
      "id": "d8mJXKAi-7UZ",
      "execution_count": null,
      "outputs": [
        {
          "output_type": "stream",
          "name": "stdout",
          "text": [
            "<statsmodels.tsa.vector_ar.hypothesis_test_results.WhitenessTestResults object. H_0: residual autocorrelation up to lag 12 is zero: reject at 5% significance level. Test statistic: 89.230, critical value: 55.758>, p-value: 0.000>\n"
          ]
        }
      ]
    },
    {
      "cell_type": "markdown",
      "source": [
        "Para visualizar los p-values"
      ],
      "metadata": {
        "id": "wfeNXIjM_IFu"
      },
      "id": "wfeNXIjM_IFu"
    },
    {
      "cell_type": "code",
      "source": [
        "for h in range(3, 13):\n",
        "    r = result_var2.test_whiteness(nlags=h, adjusted=True)\n",
        "    print(h, r.pvalue)"
      ],
      "metadata": {
        "colab": {
          "base_uri": "https://localhost:8080/"
        },
        "id": "P7-52Isv_Gux",
        "outputId": "90f95a8c-e49c-4890-8499-22b214765fb4"
      },
      "id": "P7-52Isv_Gux",
      "execution_count": null,
      "outputs": [
        {
          "output_type": "stream",
          "name": "stdout",
          "text": [
            "3 0.049200912720048444\n",
            "4 0.09035470520232061\n",
            "5 0.11196457499752267\n",
            "6 0.01734572205659903\n",
            "7 0.02561753217196393\n",
            "8 0.03763399615991656\n",
            "9 0.006060635887250186\n",
            "10 0.0020694024894899305\n",
            "11 0.0010173444004396167\n",
            "12 3.4536430816230852e-06\n"
          ]
        }
      ]
    },
    {
      "cell_type": "markdown",
      "id": "1492639d",
      "metadata": {
        "id": "1492639d"
      },
      "source": [
        "### Testeo por Causalidad en Sentido de Granger"
      ]
    },
    {
      "cell_type": "code",
      "execution_count": null,
      "id": "0519a9c7",
      "metadata": {
        "colab": {
          "base_uri": "https://localhost:8080/"
        },
        "id": "0519a9c7",
        "outputId": "ab29c4de-9f45-47f6-da3a-e71de30a3afb"
      },
      "outputs": [
        {
          "output_type": "stream",
          "name": "stdout",
          "text": [
            "<statsmodels.tsa.vector_ar.hypothesis_test_results.CausalityTestResults object. H_0: crec_m does not Granger-cause infl: fail to reject at 5% significance level. Test statistic: 0.532, critical value: 3.021>, p-value: 0.588>\n",
            "<statsmodels.tsa.vector_ar.hypothesis_test_results.CausalityTestResults object. H_0: infl does not Granger-cause crec_m: reject at 5% significance level. Test statistic: 4.556, critical value: 3.021>, p-value: 0.011>\n"
          ]
        }
      ],
      "source": [
        "print(result_var2.test_causality(\"infl\", [\"crec_m\"], kind=\"f\"))\n",
        "\n",
        "print(result_var2.test_causality(\"crec_m\", [\"infl\"], kind=\"f\"))"
      ]
    },
    {
      "cell_type": "code",
      "source": [],
      "metadata": {
        "id": "pb-CUaHz6ZDp"
      },
      "id": "pb-CUaHz6ZDp",
      "execution_count": null,
      "outputs": []
    }
  ],
  "metadata": {
    "kernelspec": {
      "display_name": "modeladoe",
      "language": "python",
      "name": "python3"
    },
    "language_info": {
      "codemirror_mode": {
        "name": "ipython",
        "version": 3
      },
      "file_extension": ".py",
      "mimetype": "text/x-python",
      "name": "python",
      "nbconvert_exporter": "python",
      "pygments_lexer": "ipython3",
      "version": "3.12.3"
    },
    "colab": {
      "provenance": []
    }
  },
  "nbformat": 4,
  "nbformat_minor": 5
}