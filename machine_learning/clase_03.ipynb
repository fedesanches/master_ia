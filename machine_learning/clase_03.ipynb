{
 "cells": [
  {
   "cell_type": "markdown",
   "metadata": {
    "id": "jEX29wNNQQiQ"
   },
   "source": [
    "# Taller Práctico: Regresión Logística (Versión Completa y Corregida)\n",
    "\n",
    "**Curso:** Maestría en Machine Learning\n",
    "\n",
    "**Nota:** Esta versión incorpora las correcciones de preprocesamiento discutidas: la correcta creación de variables dummy (0/1) y la estandarización de features numéricos, presentando el flujo de trabajo metodológicamente correcto y completo."
   ]
  },
  {
   "cell_type": "markdown",
   "metadata": {
    "id": "XtXka06yQQiS"
   },
   "source": [
    "## 1. Importación de Librerías"
   ]
  },
  {
   "cell_type": "code",
   "execution_count": null,
   "metadata": {
    "id": "teOFJP_hQRTu"
   },
   "outputs": [],
   "source": [
    "!pip install ISLP"
   ]
  },
  {
   "cell_type": "code",
   "execution_count": 1,
   "metadata": {
    "id": "BzWFrvFzQQiS"
   },
   "outputs": [],
   "source": [
    "# Librerías para manipulación de datos\n",
    "import pandas as pd\n",
    "import numpy as np\n",
    "\n",
    "# Librerías para visualización\n",
    "import plotly.express as px\n",
    "import plotly.graph_objects as go\n",
    "from matplotlib import pyplot as plt\n",
    "\n",
    "# Librerías de Machine Learning (scikit-learn)\n",
    "from sklearn.model_selection import train_test_split\n",
    "from sklearn.preprocessing import StandardScaler\n",
    "from sklearn.linear_model import LogisticRegression\n",
    "from sklearn.metrics import (\n",
    "    confusion_matrix,\n",
    "    ConfusionMatrixDisplay,\n",
    "    classification_report,\n",
    "    roc_curve,\n",
    "    roc_auc_score\n",
    ")\n",
    "\n",
    "# Librería para cargar el dataset\n",
    "from ISLP import load_data"
   ]
  },
  {
   "cell_type": "markdown",
   "metadata": {
    "id": "rx1a4IQ7QQiT"
   },
   "source": [
    "## 2. Carga y Preprocesamiento de Datos"
   ]
  },
  {
   "cell_type": "code",
   "execution_count": 52,
   "metadata": {
    "id": "35soQHJIQQiT"
   },
   "outputs": [
    {
     "name": "stdout",
     "output_type": "stream",
     "text": [
      "Primeras filas de los datos preprocesados:\n"
     ]
    },
    {
     "data": {
      "text/html": [
       "<div>\n",
       "<style scoped>\n",
       "    .dataframe tbody tr th:only-of-type {\n",
       "        vertical-align: middle;\n",
       "    }\n",
       "\n",
       "    .dataframe tbody tr th {\n",
       "        vertical-align: top;\n",
       "    }\n",
       "\n",
       "    .dataframe thead th {\n",
       "        text-align: right;\n",
       "    }\n",
       "</style>\n",
       "<table border=\"1\" class=\"dataframe\">\n",
       "  <thead>\n",
       "    <tr style=\"text-align: right;\">\n",
       "      <th></th>\n",
       "      <th>balance</th>\n",
       "      <th>income</th>\n",
       "      <th>student_Yes</th>\n",
       "    </tr>\n",
       "  </thead>\n",
       "  <tbody>\n",
       "    <tr>\n",
       "      <th>0</th>\n",
       "      <td>729.526495</td>\n",
       "      <td>44361.625074</td>\n",
       "      <td>0</td>\n",
       "    </tr>\n",
       "    <tr>\n",
       "      <th>1</th>\n",
       "      <td>817.180407</td>\n",
       "      <td>12106.134700</td>\n",
       "      <td>1</td>\n",
       "    </tr>\n",
       "    <tr>\n",
       "      <th>2</th>\n",
       "      <td>1073.549164</td>\n",
       "      <td>31767.138947</td>\n",
       "      <td>0</td>\n",
       "    </tr>\n",
       "    <tr>\n",
       "      <th>3</th>\n",
       "      <td>529.250605</td>\n",
       "      <td>35704.493935</td>\n",
       "      <td>0</td>\n",
       "    </tr>\n",
       "    <tr>\n",
       "      <th>4</th>\n",
       "      <td>785.655883</td>\n",
       "      <td>38463.495879</td>\n",
       "      <td>0</td>\n",
       "    </tr>\n",
       "  </tbody>\n",
       "</table>\n",
       "</div>"
      ],
      "text/plain": [
       "       balance        income  student_Yes\n",
       "0   729.526495  44361.625074            0\n",
       "1   817.180407  12106.134700            1\n",
       "2  1073.549164  31767.138947            0\n",
       "3   529.250605  35704.493935            0\n",
       "4   785.655883  38463.495879            0"
      ]
     },
     "metadata": {},
     "output_type": "display_data"
    }
   ],
   "source": [
    "# Carga de datos\n",
    "default_df = load_data('Default')\n",
    "\n",
    "# Conversión de categóricas a numéricas\n",
    "df_processed = pd.get_dummies(default_df, columns=['student'], drop_first=True, dtype=int)\n",
    "df_processed['default'] = df_processed['default'].apply(lambda x: 1 if x == 'Yes' else 0)\n",
    "\n",
    "# Definición de features y target\n",
    "X = df_processed[['balance', 'income', 'student_Yes']]\n",
    "y = df_processed['default']\n",
    "\n",
    "print(\"Primeras filas de los datos preprocesados:\")\n",
    "display(X.head())"
   ]
  },
  {
   "cell_type": "markdown",
   "metadata": {
    "id": "9s0jwOTsQQiU"
   },
   "source": [
    "### División en Conjuntos de Entrenamiento y Prueba\n",
    "\n",
    "Dividimos los datos ANTES de cualquier preprocesamiento que \"aprenda\" de los datos, como la estandarización, para evitar fuga de información."
   ]
  },
  {
   "cell_type": "code",
   "execution_count": 53,
   "metadata": {
    "id": "eGhZA41sQQiU"
   },
   "outputs": [
    {
     "name": "stdout",
     "output_type": "stream",
     "text": [
      "Forma de X_train: (8000, 3)\n",
      "Forma de X_test: (2000, 3)\n"
     ]
    }
   ],
   "source": [
    "X_train, X_test, y_train, y_test = train_test_split(\n",
    "    X, y,\n",
    "    test_size=0.2,\n",
    "    random_state=42,\n",
    "    stratify=y\n",
    ")\n",
    "\n",
    "print(f\"Forma de X_train: {X_train.shape}\")\n",
    "print(f\"Forma de X_test: {X_test.shape}\")"
   ]
  },
  {
   "cell_type": "markdown",
   "metadata": {
    "id": "iMwv7uO-QQiU"
   },
   "source": [
    "### Estandarización de Features Numéricos\n",
    "\n",
    "**Este es un paso crucial.** Estandarizamos las variables `balance` e `income` para que tengan media 0 y desviación estándar 1. Esto asegura que la regularización del modelo se aplique de manera justa.\n",
    "\n",
    "**Importante:** Ajustamos el `StandardScaler` **únicamente** con los datos de entrenamiento (`X_train`) y luego lo usamos para transformar tanto el conjunto de entrenamiento como el de prueba."
   ]
  },
  {
   "cell_type": "code",
   "execution_count": 54,
   "metadata": {
    "id": "F92uEGLTQQiV"
   },
   "outputs": [
    {
     "name": "stdout",
     "output_type": "stream",
     "text": [
      "Primeras filas de los datos de entrenamiento escalados:\n"
     ]
    },
    {
     "data": {
      "text/html": [
       "<div>\n",
       "<style scoped>\n",
       "    .dataframe tbody tr th:only-of-type {\n",
       "        vertical-align: middle;\n",
       "    }\n",
       "\n",
       "    .dataframe tbody tr th {\n",
       "        vertical-align: top;\n",
       "    }\n",
       "\n",
       "    .dataframe thead th {\n",
       "        text-align: right;\n",
       "    }\n",
       "</style>\n",
       "<table border=\"1\" class=\"dataframe\">\n",
       "  <thead>\n",
       "    <tr style=\"text-align: right;\">\n",
       "      <th></th>\n",
       "      <th>balance</th>\n",
       "      <th>income</th>\n",
       "      <th>student_Yes</th>\n",
       "    </tr>\n",
       "  </thead>\n",
       "  <tbody>\n",
       "    <tr>\n",
       "      <th>2720</th>\n",
       "      <td>-0.018061</td>\n",
       "      <td>-0.331140</td>\n",
       "      <td>1</td>\n",
       "    </tr>\n",
       "    <tr>\n",
       "      <th>6168</th>\n",
       "      <td>-1.687480</td>\n",
       "      <td>2.194023</td>\n",
       "      <td>0</td>\n",
       "    </tr>\n",
       "    <tr>\n",
       "      <th>7723</th>\n",
       "      <td>-0.123917</td>\n",
       "      <td>-0.288274</td>\n",
       "      <td>0</td>\n",
       "    </tr>\n",
       "    <tr>\n",
       "      <th>8128</th>\n",
       "      <td>0.155670</td>\n",
       "      <td>0.992420</td>\n",
       "      <td>0</td>\n",
       "    </tr>\n",
       "    <tr>\n",
       "      <th>3565</th>\n",
       "      <td>0.449485</td>\n",
       "      <td>-1.673192</td>\n",
       "      <td>1</td>\n",
       "    </tr>\n",
       "  </tbody>\n",
       "</table>\n",
       "</div>"
      ],
      "text/plain": [
       "       balance    income  student_Yes\n",
       "2720 -0.018061 -0.331140            1\n",
       "6168 -1.687480  2.194023            0\n",
       "7723 -0.123917 -0.288274            0\n",
       "8128  0.155670  0.992420            0\n",
       "3565  0.449485 -1.673192            1"
      ]
     },
     "metadata": {},
     "output_type": "display_data"
    }
   ],
   "source": [
    "# Instanciamos el escalador\n",
    "scaler = StandardScaler()\n",
    "\n",
    "# Columnas a escalar\n",
    "cols_to_scale = ['balance', 'income']\n",
    "\n",
    "# Creamos copias para no modificar los dataframes originales\n",
    "X_train_scaled = X_train.copy()\n",
    "X_test_scaled = X_test.copy()\n",
    "\n",
    "# Ajustamos y transformamos los datos de entrenamiento\n",
    "X_train_scaled[cols_to_scale] = scaler.fit_transform(X_train[cols_to_scale])\n",
    "\n",
    "# Transformamos los datos de prueba con el escalador ya ajustado\n",
    "X_test_scaled[cols_to_scale] = scaler.transform(X_test[cols_to_scale])\n",
    "\n",
    "print(\"Primeras filas de los datos de entrenamiento escalados:\")\n",
    "display(X_train_scaled.head())"
   ]
  },
  {
   "cell_type": "markdown",
   "metadata": {
    "id": "p4vON1LBQQiV"
   },
   "source": [
    "## 3. Entrenamiento del Modelo de Regresión Logística\n",
    "\n",
    "Ahora entrenaremos el modelo usando los datos estandarizados."
   ]
  },
  {
   "cell_type": "code",
   "execution_count": 40,
   "metadata": {
    "id": "LsDmZG1RQQiW"
   },
   "outputs": [
    {
     "name": "stdout",
     "output_type": "stream",
     "text": [
      "¡Modelo entrenado exitosamente con datos escalados!\n"
     ]
    }
   ],
   "source": [
    "# Instanciamos y entrenamos el modelo con los datos escalados\n",
    "log_reg = LogisticRegression(random_state=42)#, solver='liblinear')\n",
    "log_reg.fit(X_train_scaled, y_train)\n",
    "\n",
    "print(\"¡Modelo entrenado exitosamente con datos escalados!\")"
   ]
  },
  {
   "cell_type": "markdown",
   "metadata": {
    "id": "dl5Of2i0QQiW"
   },
   "source": [
    "## 4. Evaluación del Modelo\n",
    "\n",
    "Procedemos a la evaluación completa del modelo sobre el conjunto de prueba escalado."
   ]
  },
  {
   "cell_type": "markdown",
   "metadata": {
    "id": "zfC7MO6ZQQiW"
   },
   "source": [
    "### 4.1. Matriz de Confusión y Métricas Clave"
   ]
  },
  {
   "cell_type": "code",
   "execution_count": 6,
   "metadata": {
    "id": "EPnbLgxFQQiW"
   },
   "outputs": [
    {
     "data": {
      "image/png": "[encoded data removed]",
      "text/plain": [
       "<Figure size 600x400 with 2 Axes>"
      ]
     },
     "metadata": {},
     "output_type": "display_data"
    },
    {
     "name": "stdout",
     "output_type": "stream",
     "text": [
      "\n",
      "Reporte de Clasificación:\n",
      "              precision    recall  f1-score   support\n",
      "\n",
      "  No Default       0.98      1.00      0.99      1933\n",
      "     Default       0.72      0.31      0.44        67\n",
      "\n",
      "    accuracy                           0.97      2000\n",
      "   macro avg       0.85      0.65      0.71      2000\n",
      "weighted avg       0.97      0.97      0.97      2000\n",
      "\n"
     ]
    }
   ],
   "source": [
    "# Realizamos predicciones sobre el conjunto de prueba escalado\n",
    "y_pred = log_reg.predict(X_test_scaled)\n",
    "\n",
    "# Calculamos y visualizamos la matriz de confusión\n",
    "cm = confusion_matrix(y_test, y_pred)\n",
    "disp = ConfusionMatrixDisplay(confusion_matrix=cm, display_labels=['No Default', 'Default'])\n",
    "fig, ax = plt.subplots(figsize=(6, 4))\n",
    "disp.plot(cmap='Blues', ax=ax)\n",
    "ax.set_title('Matriz de Confusión')\n",
    "plt.show()\n",
    "\n",
    "# Imprimimos el reporte de clasificación completo\n",
    "print(\"\\nReporte de Clasificación:\")\n",
    "print(classification_report(y_test, y_pred, target_names=['No Default', 'Default']))"
   ]
  },
  {
   "cell_type": "markdown",
   "metadata": {
    "id": "VcNJ8WokQQiW"
   },
   "source": [
    "### 4.2. El Impacto del Umbral de Decisión"
   ]
  },
  {
   "cell_type": "code",
   "execution_count": 7,
   "metadata": {
    "id": "V2Bc0-MaQQiW"
   },
   "outputs": [
    {
     "name": "stdout",
     "output_type": "stream",
     "text": [
      "Reporte de Clasificación con Umbral = 0.2:\n",
      "              precision    recall  f1-score   support\n",
      "\n",
      "  No Default       0.99      0.97      0.98      1933\n",
      "     Default       0.39      0.63      0.48        67\n",
      "\n",
      "    accuracy                           0.95      2000\n",
      "   macro avg       0.69      0.80      0.73      2000\n",
      "weighted avg       0.97      0.95      0.96      2000\n",
      "\n"
     ]
    },
    {
     "data": {
      "image/png": "[encoded data removed]",
      "text/plain": [
       "<Figure size 600x400 with 2 Axes>"
      ]
     },
     "metadata": {},
     "output_type": "display_data"
    }
   ],
   "source": [
    "# Obtenemos las probabilidades de predicción para la clase positiva (Default)\n",
    "y_pred_proba = log_reg.predict_proba(X_test_scaled)[:, 1]\n",
    "\n",
    "# Aplicamos un nuevo umbral de 0.2 para aumentar el Recall\n",
    "umbral = 0.2\n",
    "y_pred_nuevo_umbral = (y_pred_proba >= umbral).astype(int)\n",
    "\n",
    "print(f\"Reporte de Clasificación con Umbral = {umbral}:\")\n",
    "print(classification_report(y_test, y_pred_nuevo_umbral, target_names=['No Default', 'Default']))\n",
    "\n",
    "# Visualizamos la nueva matriz de confusión\n",
    "cm_nuevo = confusion_matrix(y_test, y_pred_nuevo_umbral)\n",
    "disp_nuevo = ConfusionMatrixDisplay(confusion_matrix=cm_nuevo, display_labels=['No Default', 'Default'])\n",
    "fig, ax = plt.subplots(figsize=(6, 4))\n",
    "disp_nuevo.plot(cmap='Greens', ax=ax)\n",
    "ax.set_title(f'Matriz de Confusión con Umbral = {umbral}')\n",
    "plt.show()"
   ]
  },
  {
   "cell_type": "markdown",
   "metadata": {
    "id": "-PsV6LgfQQiX"
   },
   "source": [
    "### 4.3. Curva ROC y AUC"
   ]
  },
  {
   "cell_type": "code",
   "execution_count": 8,
   "metadata": {
    "id": "-xauP270QQiX"
   },
   "outputs": [
    {
     "data": {
      "application/vnd.plotly.v1+json": {
       "config": {
        "plotlyServerURL": "https://plot.ly"
       },
       "data": [
        {
         "mode": "lines",
         "name": "Curva ROC (AUC = 0.9485)",
         "type": "scatter",
         "x": {
          "bdata": "AAAAAAAAAAAAAAAAAAAAAAAAAAAAAAAAsIbj8q7zQD+whuPyrvNAP7CG4/Ku81A/sIbj8q7zUD+whuPyrvNgP7CG4/Ku82A/XGicr5owZT9caJyvmjBlP7CG4/Ku83A/sIbj8q7zcD8ISlVshm15PwhKVWyGbXk/3rqxSvyLez/eurFK/It7P4b3P9EkEoM/hvc/0SQSgz9caJyvmjCFP1xonK+aMIU/Mtn4jRBPhz8y2fiNEE+HP50RJ31LXog/nREnfUteiD9zgoNbwXyKP3OCg1vBfIo/3rqxSvyLiz/eurFK/IuLP7QrDilyqo0/tCsOKXKqjT8fZDwYrbmOPx9kPBituY4/e2pMexFskD97akx7EWyQP+aiempMe5E/5qJ6akx7kT9R26hZh4qSP1HbqFmHipI/XGicr5owlT9caJyvmjCVPz5m7OMj9Zk/Pmbs4yP1mT+0Kw4pcqqdP7QrDilyqp0/yxSvrn03oT/LFK+ufTehPzZN3Z24RqI/Nk3dnbhGoj9R26hZh4qiP1HbqFmHiqI/a2l0FVbOoj9raXQVVs6iPxdLLdJBC6c/F0st0kELpz+Cg1vBfBqoP4KDW8F8Gqg/CEpVbIZtqT8ISlVshm2pP1j0t5/yOKo/WPS3n/I4qj/DLOaOLUirP8Ms5o4tSKs/tCsOKXKqrT+0Kw4pcqqtP/NpYMgznbE/82lgyDOdsT8ZhR/aFYe0PxmFH9oVh7Q/CoRHdFrptj8KhEd0Wum2P4gxMtn4jcA/iDEy2fiNwD+U2x4z9vHBP5TbHjP28cE/J0wFOP2oxD8nTAU4/ajEP5z0LXlhoMk/nPQteWGgyT9lnqT575zLP2WepPnvnMs/6keloA8yzj/qR6WgDzLOPx9kPBituc4/H2Q8GK25zj+AokkkJmDSP4CiSSQmYNI/VhOmApx+1D9WE6YCnH7UP6a9CDYIStU/pr0INghK1T8AAAAAAADwPw==",
          "dtype": "f8"
         },
         "y": {
          "bdata": "AAAAAAAAAABnt/CrMZGOP2e38KsxkZ4/Z7fwqzGRnj+NifRA5ezGP42J9EDl7MY/BJWzW/jVyD8ElbNb+NXIP3qgcnYLv8o/eqBydgu/yj/l7BZ+NSbSP+XsFn41JtI/XPjVmEgP1D9c+NWYSA/UPxd+NSbSA9U/F341JtID1T+NifRA5ezWP42J9EDl7NY/SQ9Uzm7h1z9JD1TObuHXPwSVs1v41dg/BJWzW/jV2D+/GhPpgcrZP78aE+mBytk/eqBydgu/2j96oHJ2C7/aPzUm0gOVs9s/NSbSA5Wz2z+sMZEeqJzdP6wxkR6onN0/Z7fwqzGR3j9nt/CrMZHePyI9UDm7hd8/Ij1QObuF3z9v4VdjIj3gP2/hV2MiPeA/TKQHKme34D9MpAcqZ7fgPypnt/CrMeE/Kme38Ksx4T8IKme38KvhPwgqZ7fwq+E/5ewWfjUm4j/l7BZ+NSbiP6Bydgu/GuM/oHJ2C78a4z9c+NWYSA/kP1z41ZhID+Q/ObuFX42J5D85u4VfjYnkPxd+NSbSA+U/F341JtID5T/1QOXsFn7lP/VA5ewWfuU/0gOVs1v45T/SA5WzW/jlP42J9EDl7OY/jYn0QOXs5j9rTKQHKmfnP2tMpAcqZ+c/JtIDlbNb6D8m0gOVs1voP+FXYyI9UOk/4VdjIj1Q6T+/GhPpgcrpP78aE+mByuk/nd3Cr8ZE6j+d3cKvxkTqP3qgcnYLv+o/eqBydgu/6j9YYyI9UDnrP1hjIj1QOes/NSbSA5Wz6z81JtIDlbPrPxPpgcrZLew/E+mBytkt7D/xqzGRHqjsP/GrMZEeqOw/zm7hV2Mi7T/ObuFXYyLtP6wxkR6onO0/rDGRHqic7T+K9EDl7BbuP4r0QOXsFu4/Z7fwqzGR7j9nt/CrMZHuP0V6oHJ2C+8/RXqgcnYL7z8iPVA5u4XvPyI9UDm7he8/AAAAAAAA8D8AAAAAAADwPw==",
          "dtype": "f8"
         }
        },
        {
         "line": {
          "dash": "dash"
         },
         "mode": "lines",
         "name": "Clasificador Aleatorio",
         "type": "scatter",
         "x": [
          0,
          1
         ],
         "y": [
          0,
          1
         ]
        }
       ],
       "layout": {
        "template": {
         "data": {
          "bar": [
           {
            "error_x": {
             "color": "#2a3f5f"
            },
            "error_y": {
             "color": "#2a3f5f"
            },
            "marker": {
             "line": {
              "color": "white",
              "width": 0.5
             },
             "pattern": {
              "fillmode": "overlay",
              "size": 10,
              "solidity": 0.2
             }
            },
            "type": "bar"
           }
          ],
          "barpolar": [
           {
            "marker": {
             "line": {
              "color": "white",
              "width": 0.5
             },
             "pattern": {
              "fillmode": "overlay",
              "size": 10,
              "solidity": 0.2
             }
            },
            "type": "barpolar"
           }
          ],
          "carpet": [
           {
            "aaxis": {
             "endlinecolor": "#2a3f5f",
             "gridcolor": "#C8D4E3",
             "linecolor": "#C8D4E3",
             "minorgridcolor": "#C8D4E3",
             "startlinecolor": "#2a3f5f"
            },
            "baxis": {
             "endlinecolor": "#2a3f5f",
             "gridcolor": "#C8D4E3",
             "linecolor": "#C8D4E3",
             "minorgridcolor": "#C8D4E3",
             "startlinecolor": "#2a3f5f"
            },
            "type": "carpet"
           }
          ],
          "choropleth": [
           {
            "colorbar": {
             "outlinewidth": 0,
             "ticks": ""
            },
            "type": "choropleth"
           }
          ],
          "contour": [
           {
            "colorbar": {
             "outlinewidth": 0,
             "ticks": ""
            },
            "colorscale": [
             [
              0,
              "#0d0887"
             ],
             [
              0.1111111111111111,
              "#46039f"
             ],
             [
              0.2222222222222222,
              "#7201a8"
             ],
             [
              0.3333333333333333,
              "#9c179e"
             ],
             [
              0.4444444444444444,
              "#bd3786"
             ],
             [
              0.5555555555555556,
              "#d8576b"
             ],
             [
              0.6666666666666666,
              "#ed7953"
             ],
             [
              0.7777777777777778,
              "#fb9f3a"
             ],
             [
              0.8888888888888888,
              "#fdca26"
             ],
             [
              1,
              "#f0f921"
             ]
            ],
            "type": "contour"
           }
          ],
          "contourcarpet": [
           {
            "colorbar": {
             "outlinewidth": 0,
             "ticks": ""
            },
            "type": "contourcarpet"
           }
          ],
          "heatmap": [
           {
            "colorbar": {
             "outlinewidth": 0,
             "ticks": ""
            },
            "colorscale": [
             [
              0,
              "#0d0887"
             ],
             [
              0.1111111111111111,
              "#46039f"
             ],
             [
              0.2222222222222222,
              "#7201a8"
             ],
             [
              0.3333333333333333,
              "#9c179e"
             ],
             [
              0.4444444444444444,
              "#bd3786"
             ],
             [
              0.5555555555555556,
              "#d8576b"
             ],
             [
              0.6666666666666666,
              "#ed7953"
             ],
             [
              0.7777777777777778,
              "#fb9f3a"
             ],
             [
              0.8888888888888888,
              "#fdca26"
             ],
             [
              1,
              "#f0f921"
             ]
            ],
            "type": "heatmap"
           }
          ],
          "histogram": [
           {
            "marker": {
             "pattern": {
              "fillmode": "overlay",
              "size": 10,
              "solidity": 0.2
             }
            },
            "type": "histogram"
           }
          ],
          "histogram2d": [
           {
            "colorbar": {
             "outlinewidth": 0,
             "ticks": ""
            },
            "colorscale": [
             [
              0,
              "#0d0887"
             ],
             [
              0.1111111111111111,
              "#46039f"
             ],
             [
              0.2222222222222222,
              "#7201a8"
             ],
             [
              0.3333333333333333,
              "#9c179e"
             ],
             [
              0.4444444444444444,
              "#bd3786"
             ],
             [
              0.5555555555555556,
              "#d8576b"
             ],
             [
              0.6666666666666666,
              "#ed7953"
             ],
             [
              0.7777777777777778,
              "#fb9f3a"
             ],
             [
              0.8888888888888888,
              "#fdca26"
             ],
             [
              1,
              "#f0f921"
             ]
            ],
            "type": "histogram2d"
           }
          ],
          "histogram2dcontour": [
           {
            "colorbar": {
             "outlinewidth": 0,
             "ticks": ""
            },
            "colorscale": [
             [
              0,
              "#0d0887"
             ],
             [
              0.1111111111111111,
              "#46039f"
             ],
             [
              0.2222222222222222,
              "#7201a8"
             ],
             [
              0.3333333333333333,
              "#9c179e"
             ],
             [
              0.4444444444444444,
              "#bd3786"
             ],
             [
              0.5555555555555556,
              "#d8576b"
             ],
             [
              0.6666666666666666,
              "#ed7953"
             ],
             [
              0.7777777777777778,
              "#fb9f3a"
             ],
             [
              0.8888888888888888,
              "#fdca26"
             ],
             [
              1,
              "#f0f921"
             ]
            ],
            "type": "histogram2dcontour"
           }
          ],
          "mesh3d": [
           {
            "colorbar": {
             "outlinewidth": 0,
             "ticks": ""
            },
            "type": "mesh3d"
           }
          ],
          "parcoords": [
           {
            "line": {
             "colorbar": {
              "outlinewidth": 0,
              "ticks": ""
             }
            },
            "type": "parcoords"
           }
          ],
          "pie": [
           {
            "automargin": true,
            "type": "pie"
           }
          ],
          "scatter": [
           {
            "fillpattern": {
             "fillmode": "overlay",
             "size": 10,
             "solidity": 0.2
            },
            "type": "scatter"
           }
          ],
          "scatter3d": [
           {
            "line": {
             "colorbar": {
              "outlinewidth": 0,
              "ticks": ""
             }
            },
            "marker": {
             "colorbar": {
              "outlinewidth": 0,
              "ticks": ""
             }
            },
            "type": "scatter3d"
           }
          ],
          "scattercarpet": [
           {
            "marker": {
             "colorbar": {
              "outlinewidth": 0,
              "ticks": ""
             }
            },
            "type": "scattercarpet"
           }
          ],
          "scattergeo": [
           {
            "marker": {
             "colorbar": {
              "outlinewidth": 0,
              "ticks": ""
             }
            },
            "type": "scattergeo"
           }
          ],
          "scattergl": [
           {
            "marker": {
             "colorbar": {
              "outlinewidth": 0,
              "ticks": ""
             }
            },
            "type": "scattergl"
           }
          ],
          "scattermap": [
           {
            "marker": {
             "colorbar": {
              "outlinewidth": 0,
              "ticks": ""
             }
            },
            "type": "scattermap"
           }
          ],
          "scattermapbox": [
           {
            "marker": {
             "colorbar": {
              "outlinewidth": 0,
              "ticks": ""
             }
            },
            "type": "scattermapbox"
           }
          ],
          "scatterpolar": [
           {
            "marker": {
             "colorbar": {
              "outlinewidth": 0,
              "ticks": ""
             }
            },
            "type": "scatterpolar"
           }
          ],
          "scatterpolargl": [
           {
            "marker": {
             "colorbar": {
              "outlinewidth": 0,
              "ticks": ""
             }
            },
            "type": "scatterpolargl"
           }
          ],
          "scatterternary": [
           {
            "marker": {
             "colorbar": {
              "outlinewidth": 0,
              "ticks": ""
             }
            },
            "type": "scatterternary"
           }
          ],
          "surface": [
           {
            "colorbar": {
             "outlinewidth": 0,
             "ticks": ""
            },
            "colorscale": [
             [
              0,
              "#0d0887"
             ],
             [
              0.1111111111111111,
              "#46039f"
             ],
             [
              0.2222222222222222,
              "#7201a8"
             ],
             [
              0.3333333333333333,
              "#9c179e"
             ],
             [
              0.4444444444444444,
              "#bd3786"
             ],
             [
              0.5555555555555556,
              "#d8576b"
             ],
             [
              0.6666666666666666,
              "#ed7953"
             ],
             [
              0.7777777777777778,
              "#fb9f3a"
             ],
             [
              0.8888888888888888,
              "#fdca26"
             ],
             [
              1,
              "#f0f921"
             ]
            ],
            "type": "surface"
           }
          ],
          "table": [
           {
            "cells": {
             "fill": {
              "color": "#EBF0F8"
             },
             "line": {
              "color": "white"
             }
            },
            "header": {
             "fill": {
              "color": "#C8D4E3"
             },
             "line": {
              "color": "white"
             }
            },
            "type": "table"
           }
          ]
         },
         "layout": {
          "annotationdefaults": {
           "arrowcolor": "#2a3f5f",
           "arrowhead": 0,
           "arrowwidth": 1
          },
          "autotypenumbers": "strict",
          "coloraxis": {
           "colorbar": {
            "outlinewidth": 0,
            "ticks": ""
           }
          },
          "colorscale": {
           "diverging": [
            [
             0,
             "#8e0152"
            ],
            [
             0.1,
             "#c51b7d"
            ],
            [
             0.2,
             "#de77ae"
            ],
            [
             0.3,
             "#f1b6da"
            ],
            [
             0.4,
             "#fde0ef"
            ],
            [
             0.5,
             "#f7f7f7"
            ],
            [
             0.6,
             "#e6f5d0"
            ],
            [
             0.7,
             "#b8e186"
            ],
            [
             0.8,
             "#7fbc41"
            ],
            [
             0.9,
             "#4d9221"
            ],
            [
             1,
             "#276419"
            ]
           ],
           "sequential": [
            [
             0,
             "#0d0887"
            ],
            [
             0.1111111111111111,
             "#46039f"
            ],
            [
             0.2222222222222222,
             "#7201a8"
            ],
            [
             0.3333333333333333,
             "#9c179e"
            ],
            [
             0.4444444444444444,
             "#bd3786"
            ],
            [
             0.5555555555555556,
             "#d8576b"
            ],
            [
             0.6666666666666666,
             "#ed7953"
            ],
            [
             0.7777777777777778,
             "#fb9f3a"
            ],
            [
             0.8888888888888888,
             "#fdca26"
            ],
            [
             1,
             "#f0f921"
            ]
           ],
           "sequentialminus": [
            [
             0,
             "#0d0887"
            ],
            [
             0.1111111111111111,
             "#46039f"
            ],
            [
             0.2222222222222222,
             "#7201a8"
            ],
            [
             0.3333333333333333,
             "#9c179e"
            ],
            [
             0.4444444444444444,
             "#bd3786"
            ],
            [
             0.5555555555555556,
             "#d8576b"
            ],
            [
             0.6666666666666666,
             "#ed7953"
            ],
            [
             0.7777777777777778,
             "#fb9f3a"
            ],
            [
             0.8888888888888888,
             "#fdca26"
            ],
            [
             1,
             "#f0f921"
            ]
           ]
          },
          "colorway": [
           "#636efa",
           "#EF553B",
           "#00cc96",
           "#ab63fa",
           "#FFA15A",
           "#19d3f3",
           "#FF6692",
           "#B6E880",
           "#FF97FF",
           "#FECB52"
          ],
          "font": {
           "color": "#2a3f5f"
          },
          "geo": {
           "bgcolor": "white",
           "lakecolor": "white",
           "landcolor": "white",
           "showlakes": true,
           "showland": true,
           "subunitcolor": "#C8D4E3"
          },
          "hoverlabel": {
           "align": "left"
          },
          "hovermode": "closest",
          "mapbox": {
           "style": "light"
          },
          "paper_bgcolor": "white",
          "plot_bgcolor": "white",
          "polar": {
           "angularaxis": {
            "gridcolor": "#EBF0F8",
            "linecolor": "#EBF0F8",
            "ticks": ""
           },
           "bgcolor": "white",
           "radialaxis": {
            "gridcolor": "#EBF0F8",
            "linecolor": "#EBF0F8",
            "ticks": ""
           }
          },
          "scene": {
           "xaxis": {
            "backgroundcolor": "white",
            "gridcolor": "#DFE8F3",
            "gridwidth": 2,
            "linecolor": "#EBF0F8",
            "showbackground": true,
            "ticks": "",
            "zerolinecolor": "#EBF0F8"
           },
           "yaxis": {
            "backgroundcolor": "white",
            "gridcolor": "#DFE8F3",
            "gridwidth": 2,
            "linecolor": "#EBF0F8",
            "showbackground": true,
            "ticks": "",
            "zerolinecolor": "#EBF0F8"
           },
           "zaxis": {
            "backgroundcolor": "white",
            "gridcolor": "#DFE8F3",
            "gridwidth": 2,
            "linecolor": "#EBF0F8",
            "showbackground": true,
            "ticks": "",
            "zerolinecolor": "#EBF0F8"
           }
          },
          "shapedefaults": {
           "line": {
            "color": "#2a3f5f"
           }
          },
          "ternary": {
           "aaxis": {
            "gridcolor": "#DFE8F3",
            "linecolor": "#A2B1C6",
            "ticks": ""
           },
           "baxis": {
            "gridcolor": "#DFE8F3",
            "linecolor": "#A2B1C6",
            "ticks": ""
           },
           "bgcolor": "white",
           "caxis": {
            "gridcolor": "#DFE8F3",
            "linecolor": "#A2B1C6",
            "ticks": ""
           }
          },
          "title": {
           "x": 0.05
          },
          "xaxis": {
           "automargin": true,
           "gridcolor": "#EBF0F8",
           "linecolor": "#EBF0F8",
           "ticks": "",
           "title": {
            "standoff": 15
           },
           "zerolinecolor": "#EBF0F8",
           "zerolinewidth": 2
          },
          "yaxis": {
           "automargin": true,
           "gridcolor": "#EBF0F8",
           "linecolor": "#EBF0F8",
           "ticks": "",
           "title": {
            "standoff": 15
           },
           "zerolinecolor": "#EBF0F8",
           "zerolinewidth": 2
          }
         }
        },
        "title": {
         "text": "Curva ROC para el Modelo de Regresión Logística"
        },
        "xaxis": {
         "title": {
          "text": "Tasa de Falsos Positivos (FPR)"
         }
        },
        "yaxis": {
         "title": {
          "text": "Tasa de Verdaderos Positivos (TPR)"
         }
        }
       }
      }
     },
     "metadata": {},
     "output_type": "display_data"
    }
   ],
   "source": [
    "# Calculamos la tasa de verdaderos positivos (tpr) y la tasa de falsos positivos (fpr)\n",
    "fpr, tpr, umbrales = roc_curve(y_test, y_pred_proba)\n",
    "auc = roc_auc_score(y_test, y_pred_proba)\n",
    "\n",
    "# Creamos el gráfico con Plotly\n",
    "fig = go.Figure()\n",
    "fig.add_trace(go.Scatter(x=fpr, y=tpr, mode='lines', name=f'Curva ROC (AUC = {auc:.4f})'))\n",
    "fig.add_trace(go.Scatter(x=[0, 1], y=[0, 1], mode='lines', name='Clasificador Aleatorio', line=dict(dash='dash')))\n",
    "fig.update_layout(\n",
    "    title='Curva ROC para el Modelo de Regresión Logística',\n",
    "    xaxis_title='Tasa de Falsos Positivos (FPR)',\n",
    "    yaxis_title='Tasa de Verdaderos Positivos (TPR)',\n",
    "    template='plotly_white'\n",
    ")\n",
    "fig.show()"
   ]
  },
  {
   "cell_type": "code",
   "execution_count": 9,
   "metadata": {
    "id": "wWqZ5lm5QQiX"
   },
   "outputs": [
    {
     "data": {
      "text/html": [
       "<div>\n",
       "<style scoped>\n",
       "    .dataframe tbody tr th:only-of-type {\n",
       "        vertical-align: middle;\n",
       "    }\n",
       "\n",
       "    .dataframe tbody tr th {\n",
       "        vertical-align: top;\n",
       "    }\n",
       "\n",
       "    .dataframe thead th {\n",
       "        text-align: right;\n",
       "    }\n",
       "</style>\n",
       "<table border=\"1\" class=\"dataframe\">\n",
       "  <thead>\n",
       "    <tr style=\"text-align: right;\">\n",
       "      <th></th>\n",
       "      <th>Umbral</th>\n",
       "      <th>FPR</th>\n",
       "      <th>TPR</th>\n",
       "    </tr>\n",
       "  </thead>\n",
       "  <tbody>\n",
       "    <tr>\n",
       "      <th>0</th>\n",
       "      <td>inf</td>\n",
       "      <td>0.000000</td>\n",
       "      <td>0.000000</td>\n",
       "    </tr>\n",
       "    <tr>\n",
       "      <th>1</th>\n",
       "      <td>0.904982</td>\n",
       "      <td>0.000000</td>\n",
       "      <td>0.014925</td>\n",
       "    </tr>\n",
       "    <tr>\n",
       "      <th>2</th>\n",
       "      <td>0.876104</td>\n",
       "      <td>0.000000</td>\n",
       "      <td>0.029851</td>\n",
       "    </tr>\n",
       "    <tr>\n",
       "      <th>3</th>\n",
       "      <td>0.861995</td>\n",
       "      <td>0.000517</td>\n",
       "      <td>0.029851</td>\n",
       "    </tr>\n",
       "    <tr>\n",
       "      <th>4</th>\n",
       "      <td>0.723316</td>\n",
       "      <td>0.000517</td>\n",
       "      <td>0.179104</td>\n",
       "    </tr>\n",
       "    <tr>\n",
       "      <th>...</th>\n",
       "      <td>...</td>\n",
       "      <td>...</td>\n",
       "      <td>...</td>\n",
       "    </tr>\n",
       "    <tr>\n",
       "      <th>87</th>\n",
       "      <td>0.007660</td>\n",
       "      <td>0.320228</td>\n",
       "      <td>0.970149</td>\n",
       "    </tr>\n",
       "    <tr>\n",
       "      <th>88</th>\n",
       "      <td>0.007620</td>\n",
       "      <td>0.320228</td>\n",
       "      <td>0.985075</td>\n",
       "    </tr>\n",
       "    <tr>\n",
       "      <th>89</th>\n",
       "      <td>0.007012</td>\n",
       "      <td>0.332644</td>\n",
       "      <td>0.985075</td>\n",
       "    </tr>\n",
       "    <tr>\n",
       "      <th>90</th>\n",
       "      <td>0.007008</td>\n",
       "      <td>0.332644</td>\n",
       "      <td>1.000000</td>\n",
       "    </tr>\n",
       "    <tr>\n",
       "      <th>91</th>\n",
       "      <td>0.000014</td>\n",
       "      <td>1.000000</td>\n",
       "      <td>1.000000</td>\n",
       "    </tr>\n",
       "  </tbody>\n",
       "</table>\n",
       "<p>92 rows × 3 columns</p>\n",
       "</div>"
      ],
      "text/plain": [
       "      Umbral       FPR       TPR\n",
       "0        inf  0.000000  0.000000\n",
       "1   0.904982  0.000000  0.014925\n",
       "2   0.876104  0.000000  0.029851\n",
       "3   0.861995  0.000517  0.029851\n",
       "4   0.723316  0.000517  0.179104\n",
       "..       ...       ...       ...\n",
       "87  0.007660  0.320228  0.970149\n",
       "88  0.007620  0.320228  0.985075\n",
       "89  0.007012  0.332644  0.985075\n",
       "90  0.007008  0.332644  1.000000\n",
       "91  0.000014  1.000000  1.000000\n",
       "\n",
       "[92 rows x 3 columns]"
      ]
     },
     "execution_count": 9,
     "metadata": {},
     "output_type": "execute_result"
    }
   ],
   "source": [
    "pd.DataFrame({\n",
    "    'Umbral': umbrales,\n",
    "    'FPR': fpr,\n",
    "    'TPR': tpr\n",
    "})  # Mostramos las primeras filas de los umbrales y sus correspondientes FPR y TPR"
   ]
  },
  {
   "cell_type": "markdown",
   "metadata": {
    "id": "ey7AUT45QQiX"
   },
   "source": [
    "## 5. Regularización\n",
    "\n",
    "El hiperparámetro `C` en `scikit-learn` es el inverso de la fuerza de regularización $\\lambda$. Un valor de `C` pequeño implica una regularización más fuerte. Ahora que los datos están escalados, la comparación de coeficientes es mucho más justa."
   ]
  },
  {
   "cell_type": "code",
   "execution_count": 10,
   "metadata": {
    "id": "zpZrqn2cQQiX"
   },
   "outputs": [
    {
     "name": "stdout",
     "output_type": "stream",
     "text": [
      "Comparación de Coeficientes con Regularización (Datos Escalados):\n"
     ]
    },
    {
     "data": {
      "text/html": [
       "<div>\n",
       "<style scoped>\n",
       "    .dataframe tbody tr th:only-of-type {\n",
       "        vertical-align: middle;\n",
       "    }\n",
       "\n",
       "    .dataframe tbody tr th {\n",
       "        vertical-align: top;\n",
       "    }\n",
       "\n",
       "    .dataframe thead th {\n",
       "        text-align: right;\n",
       "    }\n",
       "</style>\n",
       "<table border=\"1\" class=\"dataframe\">\n",
       "  <thead>\n",
       "    <tr style=\"text-align: right;\">\n",
       "      <th></th>\n",
       "      <th>Predictor</th>\n",
       "      <th>Coef_L2 (C=1.0)</th>\n",
       "      <th>Coef_L1 (C=1.0)</th>\n",
       "      <th>Coef_L2_fuerte (C=0.1)</th>\n",
       "      <th>Coef_L1_fuerte (C=0.1)</th>\n",
       "    </tr>\n",
       "  </thead>\n",
       "  <tbody>\n",
       "    <tr>\n",
       "      <th>0</th>\n",
       "      <td>balance</td>\n",
       "      <td>2.594626</td>\n",
       "      <td>2.709366</td>\n",
       "      <td>1.921343</td>\n",
       "      <td>2.389894</td>\n",
       "    </tr>\n",
       "    <tr>\n",
       "      <th>1</th>\n",
       "      <td>income</td>\n",
       "      <td>-0.054058</td>\n",
       "      <td>-0.004069</td>\n",
       "      <td>-0.106268</td>\n",
       "      <td>0.002709</td>\n",
       "    </tr>\n",
       "    <tr>\n",
       "      <th>2</th>\n",
       "      <td>student_Yes</td>\n",
       "      <td>-0.658059</td>\n",
       "      <td>-0.561404</td>\n",
       "      <td>-0.670900</td>\n",
       "      <td>-0.323989</td>\n",
       "    </tr>\n",
       "  </tbody>\n",
       "</table>\n",
       "</div>"
      ],
      "text/plain": [
       "     Predictor  Coef_L2 (C=1.0)  Coef_L1 (C=1.0)  Coef_L2_fuerte (C=0.1)  \\\n",
       "0      balance         2.594626         2.709366                1.921343   \n",
       "1       income        -0.054058        -0.004069               -0.106268   \n",
       "2  student_Yes        -0.658059        -0.561404               -0.670900   \n",
       "\n",
       "   Coef_L1_fuerte (C=0.1)  \n",
       "0                2.389894  \n",
       "1                0.002709  \n",
       "2               -0.323989  "
      ]
     },
     "metadata": {},
     "output_type": "display_data"
    }
   ],
   "source": [
    "# Modelo con regularización L2 (Ridge) - C=1.0 (default)\n",
    "log_reg_l2 = LogisticRegression(penalty='l2', C=1.0, solver='liblinear', random_state=42).fit(X_train_scaled, y_train)\n",
    "\n",
    "# Modelo con regularización L1 (Lasso) - C=1.0 (default)\n",
    "log_reg_l1 = LogisticRegression(penalty='l1', C=1.0, solver='liblinear', random_state=42).fit(X_train_scaled, y_train)\n",
    "\n",
    "# Ahora con regularización más fuerte (C=0.1)\n",
    "log_reg_l2_strong = LogisticRegression(penalty='l2', C=0.1, solver='liblinear', random_state=42).fit(X_train_scaled, y_train)\n",
    "log_reg_l1_strong = LogisticRegression(penalty='l1', C=0.1, solver='liblinear', random_state=42).fit(X_train_scaled, y_train)\n",
    "\n",
    "# Creamos un DataFrame para comparar los coeficientes\n",
    "coef_df = pd.DataFrame({\n",
    "    'Predictor': X.columns,\n",
    "    'Coef_L2 (C=1.0)': log_reg_l2.coef_[0],\n",
    "    'Coef_L1 (C=1.0)': log_reg_l1.coef_[0],\n",
    "    'Coef_L2_fuerte (C=0.1)': log_reg_l2_strong.coef_[0],\n",
    "    'Coef_L1_fuerte (C=0.1)': log_reg_l1_strong.coef_[0]\n",
    "})\n",
    "\n",
    "print(\"Comparación de Coeficientes con Regularización (Datos Escalados):\")\n",
    "display(coef_df)"
   ]
  },
  {
   "cell_type": "markdown",
   "metadata": {
    "id": "-os9B39dQQiX"
   },
   "source": [
    "**Análisis:**\n",
    "- Ahora los coeficientes son directamente comparables en magnitud.\n",
    "- Se puede observar claramente cómo al aumentar la fuerza de la regularización (disminuir `C`), los coeficientes se \"encogen\" hacia cero.\n",
    "- La regularización L1 es más agresiva y puede llevar coeficientes a cero, realizando una selección de variables."
   ]
  },
  {
   "cell_type": "markdown",
   "metadata": {
    "id": "wo5kcoNhQQiX"
   },
   "source": [
    "## 6. Preguntas y Desafíos para Experimentar\n",
    "\n",
    "Ahora te toca a ti. Intenta responder a las siguientes preguntas modificando el código anterior para solidificar tu aprendizaje:\n",
    "\n",
    "1.  **Fuerza de Regularización vs. Rendimiento:** Crea un gráfico que muestre cómo cambia el AUC del modelo a medida que varías el hiperparámetro `C` (p. ej. `[0.001, 0.01, 0.1, 1, 10, 100]`). ¿Encuentras un valor óptimo para `C`?\n",
    "2.  **Otros Escaladores:** En lugar de `StandardScaler`, prueba con `MinMaxScaler` de `sklearn.preprocessing`. ¿Cambian los resultados de rendimiento? ¿Y los coeficientes del modelo?\n",
    "3.  **Selección de Predictores:** Entrena el modelo usando solo `balance` y `student_Yes` (ambos escalados). ¿Cuánto cae el rendimiento (AUC) al quitar la variable `income`? ¿Confirma esto que `income` es el predictor menos importante?"
   ]
  },
  {
   "cell_type": "markdown",
   "metadata": {
    "id": "tzQ4eRD6QQiY"
   },
   "source": [
    "## 7. Ejercicios Propuestos\n",
    "\n",
    "1.  Explica con tus propias palabras por qué el accuracy no es una buena métrica para evaluar un modelo en un dataset desbalanceado como `Default`.\n",
    "2.  Si un banco te pide un modelo que minimice la cantidad de clientes en default que no son detectados, ¿en qué métrica te enfocarías (Precisión o Recall)? ¿Y cómo ajustarías el umbral de decisión?\n",
    "3.  Carga un nuevo dataset de clasificación de `scikit-learn` (por ejemplo, `load_breast_cancer`) y realiza un análisis completo: estandarización, entrenamiento, evaluación con matriz de confusión y reporte de clasificación.\n",
    "4.  ¿Qué representa un punto en la esquina superior izquierda de la curva ROC? ¿Y un punto en la línea diagonal?\n",
    "5.  ¿Por qué es fundamental ajustar (`fit`) el `StandardScaler` únicamente con los datos de entrenamiento y no con todo el dataset?\n",
    "6.  Crea un bucle `for` que itere sobre una lista de umbrales (ej. `[0.1, 0.2, 0.3, 0.4, 0.5, 0.6, 0.7, 0.8, 0.9]`). Para cada umbral, calcula y guarda la Precisión y el Recall para la clase 'Default'. Luego, grafica cómo cambian estas dos métricas a medida que varía el umbral (Precision-Recall Curve).\n",
    "7.  Usando los coeficientes del modelo `log_reg` (entrenado con datos escalados), interpreta el coeficiente de la variable `balance`. ¿Qué significa un aumento de una desviación estándar en el `balance` en términos del odds ratio de default?\n",
    "8.  Explica la diferencia fundamental entre la regularización L1 y L2 en términos de su efecto sobre los coeficientes del modelo.\n",
    "9.  Si tuvieras dos modelos, uno con AUC de 0.85 y otro con AUC de 0.75, ¿cuál elegirías y por qué? ¿Bajo qué circunstancias podrías preferir el de 0.75?\n",
    "10. Investiga el parámetro `class_weight` de `LogisticRegression` en `scikit-learn`. ¿Cómo podrías usarlo para manejar el desbalanceo de clases en el dataset `Default`? Pruébalo (con los datos escalados) y compara los resultados (recall, precisión) con la técnica de ajustar el umbral."
   ]
  },
  {
   "cell_type": "code",
   "execution_count": null,
   "metadata": {},
   "outputs": [],
   "source": [
    "\"\"\" \n",
    "1)\n",
    "En un dataset desbalanceado, es decir donde hay muchos mas valores para una clase en comparacion a otras, podemos obtener una metrica de accuracy alta sin esto significar que el modelo aprendio bien ya que en general va \n",
    "a predecir dichos valores\n",
    "\"\"\""
   ]
  },
  {
   "cell_type": "code",
   "execution_count": null,
   "metadata": {},
   "outputs": [],
   "source": [
    "\"\"\" \n",
    "2)\n",
    "Enfocaria en Recall, ya que esto me va a dar una metrica de cuantos clientes que en realidad deberian estar en default no los detectamos (falsos negativos), y esto seria costoso para un banco. \n",
    "Para aumentar el Recall uno podria aumentar el umbral de decision, lo que haria que mas casos entraran en default a coste de bajar la accuracy del modelo. Muchas veces esto tendra que ver con reglas de negocio y \n",
    "cuanto es \"aceptable\" para el banco\n",
    "\"\"\""
   ]
  },
  {
   "cell_type": "code",
   "execution_count": null,
   "metadata": {},
   "outputs": [
    {
     "data": {
      "text/html": [
       "<div>\n",
       "<style scoped>\n",
       "    .dataframe tbody tr th:only-of-type {\n",
       "        vertical-align: middle;\n",
       "    }\n",
       "\n",
       "    .dataframe tbody tr th {\n",
       "        vertical-align: top;\n",
       "    }\n",
       "\n",
       "    .dataframe thead th {\n",
       "        text-align: right;\n",
       "    }\n",
       "</style>\n",
       "<table border=\"1\" class=\"dataframe\">\n",
       "  <thead>\n",
       "    <tr style=\"text-align: right;\">\n",
       "      <th></th>\n",
       "      <th>mean radius</th>\n",
       "      <th>mean texture</th>\n",
       "      <th>mean perimeter</th>\n",
       "      <th>mean area</th>\n",
       "      <th>mean smoothness</th>\n",
       "      <th>mean compactness</th>\n",
       "      <th>mean concavity</th>\n",
       "      <th>mean concave points</th>\n",
       "      <th>mean symmetry</th>\n",
       "      <th>mean fractal dimension</th>\n",
       "      <th>...</th>\n",
       "      <th>worst radius</th>\n",
       "      <th>worst texture</th>\n",
       "      <th>worst perimeter</th>\n",
       "      <th>worst area</th>\n",
       "      <th>worst smoothness</th>\n",
       "      <th>worst compactness</th>\n",
       "      <th>worst concavity</th>\n",
       "      <th>worst concave points</th>\n",
       "      <th>worst symmetry</th>\n",
       "      <th>worst fractal dimension</th>\n",
       "    </tr>\n",
       "  </thead>\n",
       "  <tbody>\n",
       "    <tr>\n",
       "      <th>546</th>\n",
       "      <td>10.32</td>\n",
       "      <td>16.35</td>\n",
       "      <td>65.31</td>\n",
       "      <td>324.9</td>\n",
       "      <td>0.09434</td>\n",
       "      <td>0.04994</td>\n",
       "      <td>0.01012</td>\n",
       "      <td>0.005495</td>\n",
       "      <td>0.1885</td>\n",
       "      <td>0.06201</td>\n",
       "      <td>...</td>\n",
       "      <td>11.25</td>\n",
       "      <td>21.77</td>\n",
       "      <td>71.12</td>\n",
       "      <td>384.9</td>\n",
       "      <td>0.1285</td>\n",
       "      <td>0.08842</td>\n",
       "      <td>0.04384</td>\n",
       "      <td>0.02381</td>\n",
       "      <td>0.2681</td>\n",
       "      <td>0.07399</td>\n",
       "    </tr>\n",
       "    <tr>\n",
       "      <th>432</th>\n",
       "      <td>20.18</td>\n",
       "      <td>19.54</td>\n",
       "      <td>133.80</td>\n",
       "      <td>1250.0</td>\n",
       "      <td>0.11330</td>\n",
       "      <td>0.14890</td>\n",
       "      <td>0.21330</td>\n",
       "      <td>0.125900</td>\n",
       "      <td>0.1724</td>\n",
       "      <td>0.06053</td>\n",
       "      <td>...</td>\n",
       "      <td>22.03</td>\n",
       "      <td>25.07</td>\n",
       "      <td>146.00</td>\n",
       "      <td>1479.0</td>\n",
       "      <td>0.1665</td>\n",
       "      <td>0.29420</td>\n",
       "      <td>0.53080</td>\n",
       "      <td>0.21730</td>\n",
       "      <td>0.3032</td>\n",
       "      <td>0.08075</td>\n",
       "    </tr>\n",
       "    <tr>\n",
       "      <th>174</th>\n",
       "      <td>10.66</td>\n",
       "      <td>15.15</td>\n",
       "      <td>67.49</td>\n",
       "      <td>349.6</td>\n",
       "      <td>0.08792</td>\n",
       "      <td>0.04302</td>\n",
       "      <td>0.00000</td>\n",
       "      <td>0.000000</td>\n",
       "      <td>0.1928</td>\n",
       "      <td>0.05975</td>\n",
       "      <td>...</td>\n",
       "      <td>11.54</td>\n",
       "      <td>19.20</td>\n",
       "      <td>73.20</td>\n",
       "      <td>408.3</td>\n",
       "      <td>0.1076</td>\n",
       "      <td>0.06791</td>\n",
       "      <td>0.00000</td>\n",
       "      <td>0.00000</td>\n",
       "      <td>0.2710</td>\n",
       "      <td>0.06164</td>\n",
       "    </tr>\n",
       "    <tr>\n",
       "      <th>221</th>\n",
       "      <td>13.56</td>\n",
       "      <td>13.90</td>\n",
       "      <td>88.59</td>\n",
       "      <td>561.3</td>\n",
       "      <td>0.10510</td>\n",
       "      <td>0.11920</td>\n",
       "      <td>0.07860</td>\n",
       "      <td>0.044510</td>\n",
       "      <td>0.1962</td>\n",
       "      <td>0.06303</td>\n",
       "      <td>...</td>\n",
       "      <td>14.98</td>\n",
       "      <td>17.13</td>\n",
       "      <td>101.10</td>\n",
       "      <td>686.6</td>\n",
       "      <td>0.1376</td>\n",
       "      <td>0.26980</td>\n",
       "      <td>0.25770</td>\n",
       "      <td>0.09090</td>\n",
       "      <td>0.3065</td>\n",
       "      <td>0.08177</td>\n",
       "    </tr>\n",
       "    <tr>\n",
       "      <th>289</th>\n",
       "      <td>11.37</td>\n",
       "      <td>18.89</td>\n",
       "      <td>72.17</td>\n",
       "      <td>396.0</td>\n",
       "      <td>0.08713</td>\n",
       "      <td>0.05008</td>\n",
       "      <td>0.02399</td>\n",
       "      <td>0.021730</td>\n",
       "      <td>0.2013</td>\n",
       "      <td>0.05955</td>\n",
       "      <td>...</td>\n",
       "      <td>12.36</td>\n",
       "      <td>26.14</td>\n",
       "      <td>79.29</td>\n",
       "      <td>459.3</td>\n",
       "      <td>0.1118</td>\n",
       "      <td>0.09708</td>\n",
       "      <td>0.07529</td>\n",
       "      <td>0.06203</td>\n",
       "      <td>0.3267</td>\n",
       "      <td>0.06994</td>\n",
       "    </tr>\n",
       "  </tbody>\n",
       "</table>\n",
       "<p>5 rows × 30 columns</p>\n",
       "</div>"
      ],
      "text/plain": [
       "     mean radius  mean texture  mean perimeter  mean area  mean smoothness  \\\n",
       "546        10.32         16.35           65.31      324.9          0.09434   \n",
       "432        20.18         19.54          133.80     1250.0          0.11330   \n",
       "174        10.66         15.15           67.49      349.6          0.08792   \n",
       "221        13.56         13.90           88.59      561.3          0.10510   \n",
       "289        11.37         18.89           72.17      396.0          0.08713   \n",
       "\n",
       "     mean compactness  mean concavity  mean concave points  mean symmetry  \\\n",
       "546           0.04994         0.01012             0.005495         0.1885   \n",
       "432           0.14890         0.21330             0.125900         0.1724   \n",
       "174           0.04302         0.00000             0.000000         0.1928   \n",
       "221           0.11920         0.07860             0.044510         0.1962   \n",
       "289           0.05008         0.02399             0.021730         0.2013   \n",
       "\n",
       "     mean fractal dimension  ...  worst radius  worst texture  \\\n",
       "546                 0.06201  ...         11.25          21.77   \n",
       "432                 0.06053  ...         22.03          25.07   \n",
       "174                 0.05975  ...         11.54          19.20   \n",
       "221                 0.06303  ...         14.98          17.13   \n",
       "289                 0.05955  ...         12.36          26.14   \n",
       "\n",
       "     worst perimeter  worst area  worst smoothness  worst compactness  \\\n",
       "546            71.12       384.9            0.1285            0.08842   \n",
       "432           146.00      1479.0            0.1665            0.29420   \n",
       "174            73.20       408.3            0.1076            0.06791   \n",
       "221           101.10       686.6            0.1376            0.26980   \n",
       "289            79.29       459.3            0.1118            0.09708   \n",
       "\n",
       "     worst concavity  worst concave points  worst symmetry  \\\n",
       "546          0.04384               0.02381          0.2681   \n",
       "432          0.53080               0.21730          0.3032   \n",
       "174          0.00000               0.00000          0.2710   \n",
       "221          0.25770               0.09090          0.3065   \n",
       "289          0.07529               0.06203          0.3267   \n",
       "\n",
       "     worst fractal dimension  \n",
       "546                  0.07399  \n",
       "432                  0.08075  \n",
       "174                  0.06164  \n",
       "221                  0.08177  \n",
       "289                  0.06994  \n",
       "\n",
       "[5 rows x 30 columns]"
      ]
     },
     "metadata": {},
     "output_type": "display_data"
    },
    {
     "data": {
      "text/html": [
       "<div>\n",
       "<style scoped>\n",
       "    .dataframe tbody tr th:only-of-type {\n",
       "        vertical-align: middle;\n",
       "    }\n",
       "\n",
       "    .dataframe tbody tr th {\n",
       "        vertical-align: top;\n",
       "    }\n",
       "\n",
       "    .dataframe thead th {\n",
       "        text-align: right;\n",
       "    }\n",
       "</style>\n",
       "<table border=\"1\" class=\"dataframe\">\n",
       "  <thead>\n",
       "    <tr style=\"text-align: right;\">\n",
       "      <th></th>\n",
       "      <th>mean radius</th>\n",
       "      <th>mean texture</th>\n",
       "      <th>mean perimeter</th>\n",
       "      <th>mean area</th>\n",
       "      <th>mean smoothness</th>\n",
       "      <th>mean compactness</th>\n",
       "      <th>mean concavity</th>\n",
       "      <th>mean concave points</th>\n",
       "      <th>mean symmetry</th>\n",
       "      <th>mean fractal dimension</th>\n",
       "      <th>...</th>\n",
       "      <th>worst radius</th>\n",
       "      <th>worst texture</th>\n",
       "      <th>worst perimeter</th>\n",
       "      <th>worst area</th>\n",
       "      <th>worst smoothness</th>\n",
       "      <th>worst compactness</th>\n",
       "      <th>worst concavity</th>\n",
       "      <th>worst concave points</th>\n",
       "      <th>worst symmetry</th>\n",
       "      <th>worst fractal dimension</th>\n",
       "    </tr>\n",
       "  </thead>\n",
       "  <tbody>\n",
       "    <tr>\n",
       "      <th>546</th>\n",
       "      <td>-1.072001</td>\n",
       "      <td>-0.658425</td>\n",
       "      <td>-1.088080</td>\n",
       "      <td>-0.939274</td>\n",
       "      <td>-0.135940</td>\n",
       "      <td>-1.008718</td>\n",
       "      <td>-0.968359</td>\n",
       "      <td>-1.102032</td>\n",
       "      <td>0.281062</td>\n",
       "      <td>-0.113231</td>\n",
       "      <td>...</td>\n",
       "      <td>-1.034094</td>\n",
       "      <td>-0.623497</td>\n",
       "      <td>-1.070773</td>\n",
       "      <td>-0.876534</td>\n",
       "      <td>-0.169982</td>\n",
       "      <td>-1.038836</td>\n",
       "      <td>-1.078995</td>\n",
       "      <td>-1.350527</td>\n",
       "      <td>-0.352658</td>\n",
       "      <td>-0.541380</td>\n",
       "    </tr>\n",
       "    <tr>\n",
       "      <th>432</th>\n",
       "      <td>1.748743</td>\n",
       "      <td>0.066502</td>\n",
       "      <td>1.751157</td>\n",
       "      <td>1.745559</td>\n",
       "      <td>1.274468</td>\n",
       "      <td>0.842288</td>\n",
       "      <td>1.519852</td>\n",
       "      <td>1.994664</td>\n",
       "      <td>-0.293045</td>\n",
       "      <td>-0.320180</td>\n",
       "      <td>...</td>\n",
       "      <td>1.228342</td>\n",
       "      <td>-0.092833</td>\n",
       "      <td>1.187467</td>\n",
       "      <td>1.104386</td>\n",
       "      <td>1.517001</td>\n",
       "      <td>0.249655</td>\n",
       "      <td>1.178594</td>\n",
       "      <td>1.549916</td>\n",
       "      <td>0.191078</td>\n",
       "      <td>-0.173739</td>\n",
       "    </tr>\n",
       "    <tr>\n",
       "      <th>174</th>\n",
       "      <td>-0.974734</td>\n",
       "      <td>-0.931124</td>\n",
       "      <td>-0.997709</td>\n",
       "      <td>-0.867589</td>\n",
       "      <td>-0.613515</td>\n",
       "      <td>-1.138154</td>\n",
       "      <td>-1.092292</td>\n",
       "      <td>-1.243358</td>\n",
       "      <td>0.434395</td>\n",
       "      <td>-0.429247</td>\n",
       "      <td>...</td>\n",
       "      <td>-0.973231</td>\n",
       "      <td>-1.036772</td>\n",
       "      <td>-1.008044</td>\n",
       "      <td>-0.834168</td>\n",
       "      <td>-1.097823</td>\n",
       "      <td>-1.167260</td>\n",
       "      <td>-1.282241</td>\n",
       "      <td>-1.707442</td>\n",
       "      <td>-0.307734</td>\n",
       "      <td>-1.213033</td>\n",
       "    </tr>\n",
       "    <tr>\n",
       "      <th>221</th>\n",
       "      <td>-0.145103</td>\n",
       "      <td>-1.215186</td>\n",
       "      <td>-0.123013</td>\n",
       "      <td>-0.253192</td>\n",
       "      <td>0.664482</td>\n",
       "      <td>0.286762</td>\n",
       "      <td>-0.129729</td>\n",
       "      <td>-0.098605</td>\n",
       "      <td>0.555635</td>\n",
       "      <td>0.029395</td>\n",
       "      <td>...</td>\n",
       "      <td>-0.251266</td>\n",
       "      <td>-1.369643</td>\n",
       "      <td>-0.166633</td>\n",
       "      <td>-0.330292</td>\n",
       "      <td>0.234006</td>\n",
       "      <td>0.096874</td>\n",
       "      <td>-0.087521</td>\n",
       "      <td>-0.344838</td>\n",
       "      <td>0.242198</td>\n",
       "      <td>-0.118266</td>\n",
       "    </tr>\n",
       "    <tr>\n",
       "      <th>289</th>\n",
       "      <td>-0.771617</td>\n",
       "      <td>-0.081211</td>\n",
       "      <td>-0.803700</td>\n",
       "      <td>-0.732927</td>\n",
       "      <td>-0.672282</td>\n",
       "      <td>-1.006099</td>\n",
       "      <td>-0.798502</td>\n",
       "      <td>-0.684484</td>\n",
       "      <td>0.737495</td>\n",
       "      <td>-0.457213</td>\n",
       "      <td>...</td>\n",
       "      <td>-0.801135</td>\n",
       "      <td>0.079230</td>\n",
       "      <td>-0.824381</td>\n",
       "      <td>-0.741830</td>\n",
       "      <td>-0.911367</td>\n",
       "      <td>-0.984612</td>\n",
       "      <td>-0.933190</td>\n",
       "      <td>-0.777604</td>\n",
       "      <td>0.555118</td>\n",
       "      <td>-0.761639</td>\n",
       "    </tr>\n",
       "  </tbody>\n",
       "</table>\n",
       "<p>5 rows × 30 columns</p>\n",
       "</div>"
      ],
      "text/plain": [
       "     mean radius  mean texture  mean perimeter  mean area  mean smoothness  \\\n",
       "546    -1.072001     -0.658425       -1.088080  -0.939274        -0.135940   \n",
       "432     1.748743      0.066502        1.751157   1.745559         1.274468   \n",
       "174    -0.974734     -0.931124       -0.997709  -0.867589        -0.613515   \n",
       "221    -0.145103     -1.215186       -0.123013  -0.253192         0.664482   \n",
       "289    -0.771617     -0.081211       -0.803700  -0.732927        -0.672282   \n",
       "\n",
       "     mean compactness  mean concavity  mean concave points  mean symmetry  \\\n",
       "546         -1.008718       -0.968359            -1.102032       0.281062   \n",
       "432          0.842288        1.519852             1.994664      -0.293045   \n",
       "174         -1.138154       -1.092292            -1.243358       0.434395   \n",
       "221          0.286762       -0.129729            -0.098605       0.555635   \n",
       "289         -1.006099       -0.798502            -0.684484       0.737495   \n",
       "\n",
       "     mean fractal dimension  ...  worst radius  worst texture  \\\n",
       "546               -0.113231  ...     -1.034094      -0.623497   \n",
       "432               -0.320180  ...      1.228342      -0.092833   \n",
       "174               -0.429247  ...     -0.973231      -1.036772   \n",
       "221                0.029395  ...     -0.251266      -1.369643   \n",
       "289               -0.457213  ...     -0.801135       0.079230   \n",
       "\n",
       "     worst perimeter  worst area  worst smoothness  worst compactness  \\\n",
       "546        -1.070773   -0.876534         -0.169982          -1.038836   \n",
       "432         1.187467    1.104386          1.517001           0.249655   \n",
       "174        -1.008044   -0.834168         -1.097823          -1.167260   \n",
       "221        -0.166633   -0.330292          0.234006           0.096874   \n",
       "289        -0.824381   -0.741830         -0.911367          -0.984612   \n",
       "\n",
       "     worst concavity  worst concave points  worst symmetry  \\\n",
       "546        -1.078995             -1.350527       -0.352658   \n",
       "432         1.178594              1.549916        0.191078   \n",
       "174        -1.282241             -1.707442       -0.307734   \n",
       "221        -0.087521             -0.344838        0.242198   \n",
       "289        -0.933190             -0.777604        0.555118   \n",
       "\n",
       "     worst fractal dimension  \n",
       "546                -0.541380  \n",
       "432                -0.173739  \n",
       "174                -1.213033  \n",
       "221                -0.118266  \n",
       "289                -0.761639  \n",
       "\n",
       "[5 rows x 30 columns]"
      ]
     },
     "metadata": {},
     "output_type": "display_data"
    },
    {
     "data": {
      "image/png": "[encoded data removed]",
      "text/plain": [
       "<Figure size 640x480 with 2 Axes>"
      ]
     },
     "metadata": {},
     "output_type": "display_data"
    },
    {
     "name": "stdout",
     "output_type": "stream",
     "text": [
      "\n",
      "Reporte de Clasificación:\n",
      "              precision    recall  f1-score   support\n",
      "\n",
      "  No Default       0.98      0.98      0.98        42\n",
      "     Default       0.99      0.99      0.99        72\n",
      "\n",
      "    accuracy                           0.98       114\n",
      "   macro avg       0.98      0.98      0.98       114\n",
      "weighted avg       0.98      0.98      0.98       114\n",
      "\n"
     ]
    }
   ],
   "source": [
    "\"\"\" \n",
    "3)\n",
    "\"\"\"\n",
    "\n",
    "from sklearn.datasets import load_breast_cancer\n",
    "\n",
    "data, target = load_breast_cancer(return_X_y=True, as_frame=True)\n",
    "\n",
    "\n",
    "# Dividimos el set en entranamiento y test\n",
    "X_train, X_test, y_train, y_test = train_test_split(data, target, test_size=0.2, random_state=42, stratify=target)\n",
    "\n",
    "display(X_train.head())\n",
    "\n",
    "\n",
    "# Ahora estadarizamos\n",
    "scaler = StandardScaler()\n",
    "X_train_scaled = X_train.copy()\n",
    "X_test_scaled = X_test.copy()\n",
    "\n",
    "X_train_scaled = pd.DataFrame(scaler.fit_transform(X_train), columns=X_train.columns, index=X_train.index)\n",
    "X_test_scaled = pd.DataFrame(scaler.transform(X_test), columns=X_test.columns, index=X_test.index)\n",
    "\n",
    "display(X_train_scaled.head())\n",
    "\n",
    "\n",
    "# Entrenamiento del modelo\n",
    "log_reg = LogisticRegression(random_state=42)\n",
    "log_reg.fit(X_train_scaled, y_train)\n",
    "\n",
    "y_pred = log_reg.predict(X_test_scaled)\n",
    "\n",
    "\n",
    "# Matriz de Confusion y reporte de clasificacion\n",
    "cm = confusion_matrix(y_test, y_pred)\n",
    "disp = ConfusionMatrixDisplay(confusion_matrix=cm, display_labels=log_reg.classes_)\n",
    "disp.plot(cmap='Blues')\n",
    "plt.title(f\"Matriz de Confusión\")\n",
    "plt.grid(False)\n",
    "plt.show()\n",
    "\n",
    "print(\"\\nReporte de Clasificación:\")\n",
    "print(classification_report(y_test, y_pred, target_names=['No Default', 'Default']))\n"
   ]
  },
  {
   "cell_type": "code",
   "execution_count": null,
   "metadata": {},
   "outputs": [],
   "source": [
    "\"\"\"\n",
    "4)\n",
    "Un punto en la esquina superior es decir, el punto (0, 1), indicaria que nuestro modelo clasifica perfectament.\n",
    "Mientras que un punto en la linea diagonal, daria una clasificacion totalmente aleatoria\n",
    "\"\"\""
   ]
  },
  {
   "cell_type": "code",
   "execution_count": null,
   "metadata": {},
   "outputs": [],
   "source": [
    "\"\"\" \n",
    "5)\n",
    "Si 'fitiamos' todo el dataset (entrenamiento + test), estariamos fugando datos, de puntos que el modelo no deberia haber visto\n",
    "\"\"\""
   ]
  },
  {
   "cell_type": "code",
   "execution_count": 36,
   "metadata": {},
   "outputs": [
    {
     "data": {
      "image/png": "[encoded data removed]",
      "text/plain": [
       "<Figure size 800x500 with 1 Axes>"
      ]
     },
     "metadata": {},
     "output_type": "display_data"
    }
   ],
   "source": [
    "\"\"\" \n",
    "6) \n",
    "\"\"\"\n",
    "from sklearn.metrics import precision_score, recall_score\n",
    "\n",
    "umbrales = [0.1, 0.2, 0.3, 0.4, 0.5, 0.6, 0.7, 0.8, 0.9]\n",
    "precisions = []\n",
    "recalls = []\n",
    "\n",
    "# Obtenemos las probabilidades de predicción para la clase positiva (Default)\n",
    "y_pred_proba = log_reg.predict_proba(X_test_scaled)[:, 1]\n",
    "\n",
    "for umbral in umbrales:\n",
    "    y_pred_nuevo_umbral = (y_pred_proba >= umbral).astype(int)\n",
    "\n",
    "    precision = precision_score(y_test, y_pred_nuevo_umbral)\n",
    "    precisions.append(precision)\n",
    "    \n",
    "    recall = recall_score(y_test, y_pred_nuevo_umbral)\n",
    "    recalls.append(recall)\n",
    "\n",
    "\n",
    "plt.figure(figsize=(8, 5))\n",
    "plt.plot(umbrales, precisions, label='Precisión', marker='o')\n",
    "plt.plot(umbrales, recalls, label='Recall', marker='o')\n",
    "plt.xlabel('Umbral de decisión')\n",
    "plt.ylabel('Métrica')\n",
    "plt.title('Precisión y Recall vs Umbral')\n",
    "plt.xticks(umbrales)\n",
    "plt.legend()\n",
    "plt.grid(True)\n",
    "plt.show()"
   ]
  },
  {
   "cell_type": "code",
   "execution_count": 51,
   "metadata": {},
   "outputs": [
    {
     "name": "stdout",
     "output_type": "stream",
     "text": [
      "El coeficiente de balance es: 2.71\n"
     ]
    }
   ],
   "source": [
    "\"\"\" \n",
    "7)\n",
    "Las odds = p/(1-p), es decir la probablidad de que sea 'Default' vs la probabilidad de 'No Default'\n",
    "El aumento de 1 desviacion standard del coef de Balance, haria el ratio de odds de 'Default' incremente en e^2.17 veces\n",
    "\"\"\"\n",
    "\n",
    "print(f'El coeficiente de balance es: {log_reg.coef_[0,0]:.2f}')"
   ]
  },
  {
   "cell_type": "code",
   "execution_count": null,
   "metadata": {},
   "outputs": [],
   "source": [
    "\"\"\" \n",
    "8)\n",
    "La regularizacion L2, penaliza la suma de cuadrados de los coeficientes, pero nunca los lleva a 0\n",
    "La regularizacion L1, en cambio, penaliza los valores absolutos, lo que posibilita que los coeficientes sean 0, ralizando asi una seleccion de caracteristicas (puede eliminar variables)\n",
    "\"\"\""
   ]
  },
  {
   "cell_type": "code",
   "execution_count": null,
   "metadata": {},
   "outputs": [],
   "source": [
    "\"\"\" \n",
    "9)\n",
    "El AUC mide la capacidad del modelo de distinguir entre clases. En general se preferiria el modelo con el AUC mas alto (0.85).\n",
    "Pero puede existir la posibilidad de que, querramos buscar un modelo con mejor Recall, a coste de que el AUC disminuya (como en el ejemplo del banco)\n",
    "\"\"\""
   ]
  },
  {
   "cell_type": "code",
   "execution_count": 55,
   "metadata": {},
   "outputs": [
    {
     "name": "stdout",
     "output_type": "stream",
     "text": [
      "Reporte de Clasificación con Umbral:\n",
      "              precision    recall  f1-score   support\n",
      "\n",
      "  No Default       1.00      0.85      0.92      1933\n",
      "     Default       0.17      0.88      0.29        67\n",
      "\n",
      "    accuracy                           0.85      2000\n",
      "   macro avg       0.58      0.87      0.60      2000\n",
      "weighted avg       0.97      0.85      0.90      2000\n",
      "\n"
     ]
    },
    {
     "data": {
      "image/png": "[encoded data removed]",
      "text/plain": [
       "<Figure size 600x400 with 2 Axes>"
      ]
     },
     "metadata": {},
     "output_type": "display_data"
    }
   ],
   "source": [
    "\"\"\" \n",
    "10)\n",
    "\"\"\"\n",
    "log_reg = LogisticRegression(class_weight='balanced', random_state=42)\n",
    "log_reg.fit(X_train_scaled, y_train)\n",
    "\n",
    "y_pred = log_reg.predict(X_test_scaled)\n",
    "\n",
    "print(f\"Reporte de Clasificación con Umbral:\")\n",
    "print(classification_report(y_test, y_pred, target_names=['No Default', 'Default']))\n",
    "\n",
    "# Visualizamos la nueva matriz de confusión\n",
    "cm_nuevo = confusion_matrix(y_test, y_pred)\n",
    "disp_nuevo = ConfusionMatrixDisplay(confusion_matrix=cm_nuevo, display_labels=['No Default', 'Default'])\n",
    "fig, ax = plt.subplots(figsize=(6, 4))\n",
    "disp_nuevo.plot(cmap='Greens', ax=ax)\n",
    "ax.set_title(f'Matriz de Confusión')\n",
    "plt.show()"
   ]
  }
 ],
 "metadata": {
  "colab": {
   "provenance": []
  },
  "kernelspec": {
   "display_name": "Python 3",
   "language": "python",
   "name": "python3"
  },
  "language_info": {
   "codemirror_mode": {
    "name": "ipython",
    "version": 3
   },
   "file_extension": ".py",
   "mimetype": "text/x-python",
   "name": "python",
   "nbconvert_exporter": "python",
   "pygments_lexer": "ipython3",
   "version": "3.11.9"
  }
 },
 "nbformat": 4,
 "nbformat_minor": 0
}
