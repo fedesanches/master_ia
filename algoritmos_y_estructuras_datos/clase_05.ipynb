{
 "cells": [
  {
   "cell_type": "code",
   "execution_count": 3,
   "id": "c8936676",
   "metadata": {},
   "outputs": [
    {
     "name": "stdout",
     "output_type": "stream",
     "text": [
      "29\n"
     ]
    }
   ],
   "source": [
    "def enBase(n, b):\n",
    "    digitos = []\n",
    "    while n > 0:\n",
    "        n, ultimo_digito = divmod(n, b)\n",
    "        digitos.append(ultimo_digito)\n",
    "    return digitos[::-1]\n",
    "\n",
    "def deBase(n, b):\n",
    "    res = 0\n",
    "    for d in n:\n",
    "        res = res * b + d\n",
    "    return res\n",
    "\n",
    "print(deBase(enBase(29,2), 2))\n",
    "\n"
   ]
  },
  {
   "cell_type": "code",
   "execution_count": 4,
   "id": "f782fb3d",
   "metadata": {},
   "outputs": [
    {
     "name": "stdout",
     "output_type": "stream",
     "text": [
      "[11, 11, 7]\n"
     ]
    }
   ],
   "source": [
    "#ejercicio 2 de la guia 5\n",
    "def subset_sum(a, k):\n",
    "    if k == 0:\n",
    "        return []\n",
    "    elif len(a) == 0:\n",
    "        return None\n",
    "    else:\n",
    "        #opcion 1 incluyo al elemento [0]\n",
    "        res = subset_sum(a[1:], k - a[0])\n",
    "        if res is not None:\n",
    "            return [a[0]] + res\n",
    "        #opcion 2 no incluyo el elemento[0]\n",
    "        return subset_sum(a[1:], k)\n",
    "\n",
    "a = [8,11,11,8,12,7]\n",
    "k = 29\n",
    "\n",
    "print(subset_sum(a,k))\n",
    "        "
   ]
  },
  {
   "cell_type": "code",
   "execution_count": null,
   "id": "b301fb65",
   "metadata": {},
   "outputs": [],
   "source": [
    "# Ejercicio 3 guia 5\n",
    "\n",
    "class Nodo:\n",
    "    def __init__(self, left, value, right):\n",
    "        self.left = left\n",
    "        self.value = value\n",
    "        self.right = right\n",
    "\n",
    "\n",
    "def arbolesBinarios(k):\n",
    "    if k == 0:\n",
    "        return [None]\n",
    "    else:\n",
    "        res = []\n",
    "        for i in range(k):\n",
    "            for izq in arbolesBinarios(i):\n",
    "                for der in arbolesBinarios(k - 1 - i):\n",
    "                    res.append(Nodo(izq, 1, der))\n",
    "        return res"
   ]
  },
  {
   "cell_type": "code",
   "execution_count": null,
   "id": "9e8017c7",
   "metadata": {},
   "outputs": [],
   "source": [
    "# ejercicio 6 guia 5\n",
    "def son_limitrofes(p, q)"
   ]
  }
 ],
 "metadata": {
  "kernelspec": {
   "display_name": "Python 3",
   "language": "python",
   "name": "python3"
  },
  "language_info": {
   "codemirror_mode": {
    "name": "ipython",
    "version": 3
   },
   "file_extension": ".py",
   "mimetype": "text/x-python",
   "name": "python",
   "nbconvert_exporter": "python",
   "pygments_lexer": "ipython3",
   "version": "3.11.9"
  }
 },
 "nbformat": 4,
 "nbformat_minor": 5
}
