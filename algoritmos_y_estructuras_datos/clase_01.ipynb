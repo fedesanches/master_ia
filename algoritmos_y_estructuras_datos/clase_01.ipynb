{
 "cells": [
  {
   "cell_type": "markdown",
   "id": "347ee117",
   "metadata": {},
   "source": [
    "# Ejercicio 1"
   ]
  },
  {
   "cell_type": "code",
   "execution_count": null,
   "id": "4df86997",
   "metadata": {},
   "outputs": [
    {
     "name": "stdout",
     "output_type": "stream",
     "text": [
      "El maximo del arreglo es: 8\n"
     ]
    }
   ],
   "source": [
    "# Hallar el maximo de un arreglo de n enteros\n",
    "\n",
    "arreglo = [3, 5, 1, 8, 2]\n",
    "\n",
    "def maximo(arreglo):\n",
    "    maximo_valor = arreglo[0]\n",
    "    for numero in arreglo:\n",
    "        if numero > maximo_valor:\n",
    "            maximo_valor = numero\n",
    "    return maximo_valor\n",
    "\n",
    "print(\"El maximo del arreglo es:\", maximo(arreglo))\n",
    "\n",
    "# La complejidad temporal es O(n), ya que el arreglo se recorre una vez\n",
    "# La complejidad espacial es O(1), ya que solo utilizamos una variable adicional"
   ]
  },
  {
   "cell_type": "code",
   "execution_count": null,
   "id": "67ace06e",
   "metadata": {},
   "outputs": [
    {
     "name": "stdout",
     "output_type": "stream",
     "text": [
      "Los 3 numeros mas grandes del arreglo son: [8, 5, 3]\n"
     ]
    }
   ],
   "source": [
    "# Hallar los k numeros mas grandes de un arreglo de n enteros.\n",
    "\n",
    "def k_maximos(arreglo, k):    \n",
    "    arreglo_ordenado = sorted(arreglo, reverse = True)\n",
    "    return arreglo_ordenado[:k]\n",
    "\n",
    "arreglo = [3, 5, 1, 8, 2]\n",
    "k = 3\n",
    "\n",
    "print(f\"Los {k} numeros mas grandes del arreglo son:\", k_maximos(arreglo, k))\n",
    "\n",
    "# La com"
   ]
  },
  {
   "cell_type": "code",
   "execution_count": null,
   "id": "77bef8a0",
   "metadata": {},
   "outputs": [],
   "source": [
    "# Dados dos arreglos de enteros A y B, determinar cual es mas largo.\n",
    "\n",
    "def arreglo_mas_largo(arreglo1, arreglo2):\n",
    "    if len(arreglo1) > len(arreglo2):\n",
    "        return arreglo1\n",
    "    elif len(arreglo1) < len(arreglo2):\n",
    "        return arreglo2\n",
    "    else:\n",
    "        return []\n",
    "\n",
    "# la complejidad temporal es 0(1) ya que solo se comparan las longitudes de los arreglos; si no usara\n",
    "# len() la complejidad seria O(n+m) ya que se tendria que recorrer el arreglo para contar los elementos\n",
    "# la complejidad espacial es O(1) ya que no se usa memoria adicional"
   ]
  },
  {
   "cell_type": "code",
   "execution_count": null,
   "id": "ddcf3207",
   "metadata": {},
   "outputs": [
    {
     "name": "stdout",
     "output_type": "stream",
     "text": [
      "Elementos comunes entre A y B: 3\n"
     ]
    }
   ],
   "source": [
    "# Dados dos arreglos de enteros A y B, determinar cuantos elementos de A aparecen tambien en B\n",
    "\n",
    "def elementos_comunes(arreglo1, arreglo2):\n",
    "    c = 0\n",
    "    for e in arreglo1:\n",
    "        if e in arreglo2:\n",
    "                c += 1\n",
    "    return c\n",
    "\n",
    "arreglo1 = [1, 2, 3, 4, 5]\n",
    "arreglo2 = [3, 4, 5, 6, 7, 5]\n",
    "print(\"Elementos comunes entre A y B:\", elementos_comunes(arreglo1, arreglo2))\n",
    "\n",
    "# La complejidad temporal es O(n*m) ya que se recorre el primer arreglo y para cada elemento se busca en el segundo arreglo\n",
    "# La complejidad espacial es O(1) ya que no se usa memoria adicional"
   ]
  },
  {
   "cell_type": "code",
   "execution_count": null,
   "id": "2ec6f713",
   "metadata": {},
   "outputs": [
    {
     "name": "stdout",
     "output_type": "stream",
     "text": [
      "Arreglo elevado al cuadrado: [1, 4, 9, 16, 25]\n"
     ]
    }
   ],
   "source": [
    "#  Dado un arreglo A de enteros, producir un arreglo B de enteros tal que B[i] contenga el numero A[i]^2\n",
    "\n",
    "def elevados_al_cuadrado(arreglo):\n",
    "    arreglo_elevado = [x**2 for x in arreglo]\n",
    "    return arreglo_elevado\n",
    "\n",
    "arreglo = [1, 2, 3, 4, 5]\n",
    "print(\"Arreglo elevado al cuadrado:\", elevados_al_cuadrado(arreglo))\n",
    "\n",
    "# la complejidad temporal es O(n) ya que se recorre el arreglo una vez\n",
    "# la complejidad espacial es O(n) ya que se crea un nuevo arreglo del mismo tamaño que el original"
   ]
  },
  {
   "cell_type": "code",
   "execution_count": null,
   "id": "dd6d0f85",
   "metadata": {},
   "outputs": [],
   "source": [
    "# Dado un arreglo A de enteros, producir un arreglo B de enteros que resulte de borrar todos los numeros negativos de A."
   ]
  }
 ],
 "metadata": {
  "kernelspec": {
   "display_name": "Python 3",
   "language": "python",
   "name": "python3"
  },
  "language_info": {
   "codemirror_mode": {
    "name": "ipython",
    "version": 3
   },
   "file_extension": ".py",
   "mimetype": "text/x-python",
   "name": "python",
   "nbconvert_exporter": "python",
   "pygments_lexer": "ipython3",
   "version": "3.11.9"
  }
 },
 "nbformat": 4,
 "nbformat_minor": 5
}
