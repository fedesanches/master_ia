{
 "cells": [
  {
   "cell_type": "code",
   "execution_count": null,
   "id": "93bd08c2",
   "metadata": {},
   "outputs": [],
   "source": [
    "\"\"\" \n",
    "Palabras anagramas\n",
    "Queremos un sistema con las siguientes operacion:\n",
    "    - inicializar el sistema\n",
    "    - agregar un palabra de largo m\n",
    "    - dada una palabra de largo m, determinar si es un anagrama de alguna de las palabras del \n",
    "    \n",
    "ordernar con bucket sort e insertar en un trie:\n",
    "    - insertar --> o(m)\n",
    "    - buscar --> o(m)\n",
    "     \n",
    "otra propuesta seria generar todas las permutaciones sin repeticion e insertar en un trie:\n",
    "    - insertar --> o(m! x m)\n",
    "    - buscar --> o(m)\n",
    "\n",
    "si usaramos mergesort quedaria o(m log m)\n",
    "\"\"\"\n",
    "\n",
    "a = ['alegria', 'alergia', 'aligera', 'galeria', 'regalia']\n",
    "\n"
   ]
  },
  {
   "cell_type": "code",
   "execution_count": null,
   "id": "9332dbbf",
   "metadata": {},
   "outputs": [],
   "source": [
    "\"\"\" \n",
    "ecuaciones diofanticas\n",
    "\n",
    "busqueda binaria\n",
    "\n",
    "l=o\n",
    "u=d\n",
    "while l <> u\n",
    "    m = (l+u)/2 mod\n",
    "    if f(m) = d return m\n",
    "    if f(m) < d l = m\n",
    "    else u = m\n",
    "\"\"\"\n",
    "\n"
   ]
  },
  {
   "cell_type": "code",
   "execution_count": null,
   "id": "520fc06f",
   "metadata": {},
   "outputs": [],
   "source": [
    "\"\"\" \n",
    "pesas\n",
    "\n",
    "k<=n\n",
    "ordenar de menor a mayor y tomar los k mas grandes \n",
    "    o(n log n) con mergesort\n",
    "    o(k log n) con quicksort en caso promedio o(n2) en peor caso\n",
    "\n",
    "insertar en un heap y desencolar k veces\n",
    "    o(n + k log n)\n",
    "\n",
    "mantener una lista de los k mas grandes\n",
    "    o(n.k)\n",
    "\n",
    "\"\"\""
   ]
  },
  {
   "cell_type": "code",
   "execution_count": null,
   "id": "c78572c1",
   "metadata": {},
   "outputs": [],
   "source": [
    "\"\"\" \n",
    "alarma cumpleaños\n",
    "\n",
    "una lista de 364 con listas con nombres\n",
    "\"\"\""
   ]
  }
 ],
 "metadata": {
  "language_info": {
   "name": "python"
  }
 },
 "nbformat": 4,
 "nbformat_minor": 5
}
