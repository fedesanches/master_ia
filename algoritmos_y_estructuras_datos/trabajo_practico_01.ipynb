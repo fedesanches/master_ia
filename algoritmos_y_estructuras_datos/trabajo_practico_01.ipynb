{
 "cells": [
  {
   "cell_type": "markdown",
   "id": "b4f30628",
   "metadata": {},
   "source": [
    "# Trabajo Practico 1 - Federico Sanches"
   ]
  },
  {
   "cell_type": "markdown",
   "id": "01f2ab73",
   "metadata": {},
   "source": [
    "Diseñar un tipo de datos VectorConUndo con la siguiente interfaz, respetando las complejidades temporales en peor caso indicadas:\n",
    "\n",
    "* inicializar(n) — crea un vector de tamano n, cuyos elementos son todos 0. Precondicion: se asume que n ≥ 0. Complejidad: O(n).\n",
    "* leer(i) — devuelve el valor en la posicion i. Precondicion: se asume que 0 ≤ i < n. Complejidad: O(1).\n",
    "* escribir(i, x) — sobreescribe el elemento en la posicion i con el valor x. Precondicion: se asume que 0 ≤ i < n. Complejidad: O(1).\n",
    "* ctrlZ() — deshace la ultima operacion de escritura. Si no hubo escrituras, esta operacion no tiene efecto. Complejidad: O(1).\n",
    "\n",
    "¿Cual es el invariante de la estructura de datos?"
   ]
  },
  {
   "cell_type": "code",
   "execution_count": null,
   "id": "2fbc68fe",
   "metadata": {},
   "outputs": [],
   "source": [
    "class VectorConUndo():\n",
    "\n",
    "    def __init__(self, n):\n",
    "        self._datos = [0 for i in range(n)]\n",
    "        self._ultima_posicion = None\n",
    "        self._ultimo_valor = None\n",
    "\n",
    "    def leer(self, i):\n",
    "        return self._datos[i]\n",
    "    \n",
    "    def escribir(self, i, x):\n",
    "        # Guardo la ultima posicion que cambie y cual fue su valor; esto no afecta la complejidad la cual sigue siendo O(1)\n",
    "        self._ultima_posicion = i\n",
    "        self._ultimo_valor = self._datos[i]\n",
    "        self._datos[i] = x\n",
    "    \n",
    "    def ctrlZ(self):\n",
    "        if self._ultimo_valor is None and self._ultima_posicion is None:\n",
    "            return None\n",
    "        else:\n",
    "            self._datos[self._ultima_posicion] = self._ultimo_valor\n",
    "\n",
    "# La invariante es para el vector es siempre de tamaño \"n\", _ultima_posicion es None o un valor entre 0-n y _ultimo_valor es None o el valor del vector en la posicion \"_ultima_posicion\""
   ]
  },
  {
   "cell_type": "markdown",
   "id": "9601938d",
   "metadata": {},
   "source": [
    "[Exponenciacion binaria] Dado un numero entero x ∈ Z y un natural n ∈ N0. Queremos calcular la potencia x^n. Por convencion, declaramos que x^0 = 1 para todo x ∈ Z.\n",
    "\n",
    "Un metodo ingenuo para calcular la potencia es realizar una sucesion de n multiplicaciones, en tiempo O(n):\n",
    "((x · x) · x). . . · x n veces\n",
    "\n",
    "Se puede calcular x^n de manera mas eficiente con el siguiente metodo, basado en la tecnica de D&C:\n",
    "* Si n = 0, devolver 1.\n",
    "* Si n es mayor que 0 y es par, calcular y = x^n/2 y devolver y · y.\n",
    "* Si n es impar, calcular y = x^(n−1)/2 y devolver y · y · x.\n",
    "\n",
    "Se pide:\n",
    "1) Implementar el metodo en Python y convencerse de que es correcto haciendo tests.\n",
    "2) Analizar la complejidad temporal en peor caso"
   ]
  },
  {
   "cell_type": "code",
   "execution_count": null,
   "id": "fe0cb22f",
   "metadata": {},
   "outputs": [],
   "source": [
    "def exponenciacionBinaria(x, n):\n",
    "    if n == 0:\n",
    "        return 1\n",
    "    elif n % 2 == 0:\n",
    "        y = exponenciacionBinaria(x, n // 2)\n",
    "        return y * y\n",
    "    else:\n",
    "        y = exponenciacionBinaria(x, (n - 1) // 2)\n",
    "        return y * y * x\n",
    "\n",
    "# Casos de test\n",
    "assert exponenciacionBinaria(10, 2) == 100\n",
    "assert exponenciacionBinaria(5, 6) == 15625\n",
    "assert exponenciacionBinaria(0, 10) == 0\n",
    "assert exponenciacionBinaria(10, 0) == 1\n",
    "\n",
    "# La complejidad temporal la exponenciacion binaria es O(log n); ya que cada iteracion implica ir hacia la mitad del exponente."
   ]
  },
  {
   "cell_type": "markdown",
   "id": "9243020e",
   "metadata": {},
   "source": [
    "Diseñar un algoritmo que reciba como entrada un arreglo ordenado de n elementos y construya un AVL en tiempo O(n) en peor caso"
   ]
  },
  {
   "cell_type": "code",
   "execution_count": null,
   "id": "b48b7987",
   "metadata": {},
   "outputs": [],
   "source": [
    "class Nodo:\n",
    "    def __init__(self, left, value, right):\n",
    "        self.left = left\n",
    "        self.value = value\n",
    "        self.right = right\n",
    "\n",
    "def avl(arreglo):\n",
    "    if not arreglo: return None\n",
    "    \n",
    "    raiz = arreglo[len(arreglo) // 2]\n",
    "    left_array = arreglo[:len(arreglo) // 2]\n",
    "    right_array = arreglo[(len(arreglo) // 2) + 1:]\n",
    "    \n",
    "    arbol = Nodo(None, raiz, None)\n",
    "    arbol.left = avl(left_array)\n",
    "    arbol.right = avl(right_array)\n",
    "    \n",
    "    return arbol\n",
    "\n",
    "def insertar(a, x): \n",
    "    # a es el nodo y x el valor a insertar\n",
    "    if a is None:\n",
    "        return Nodo(None, x, None)\n",
    "    elif x == a.value:\n",
    "        return a\n",
    "    elif x < a.value:\n",
    "        a.left = insertar(a.left, x)\n",
    "        return a\n",
    "    else: # x > a.value\n",
    "        a.right = insertar(a.right, x)\n",
    "        return a\n",
    "\n",
    "def imprimir_en_orden(a, nivel=0):\n",
    "    if a is not None:        \n",
    "        imprimir_en_orden(a.right, nivel + 1)\n",
    "        print('    ' * nivel + f'-> {a.value}')\n",
    "        imprimir_en_orden(a.left, nivel + 1)\n"
   ]
  }
 ],
 "metadata": {
  "kernelspec": {
   "display_name": "Python 3",
   "language": "python",
   "name": "python3"
  },
  "language_info": {
   "codemirror_mode": {
    "name": "ipython",
    "version": 3
   },
   "file_extension": ".py",
   "mimetype": "text/x-python",
   "name": "python",
   "nbconvert_exporter": "python",
   "pygments_lexer": "ipython3",
   "version": "3.11.9"
  }
 },
 "nbformat": 4,
 "nbformat_minor": 5
}
