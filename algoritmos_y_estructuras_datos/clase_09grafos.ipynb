{
 "cells": [
  {
   "cell_type": "code",
   "execution_count": null,
   "id": "e01420bd",
   "metadata": {},
   "outputs": [],
   "source": [
    "class Grafo:\n",
    "    "
   ]
  },
  {
   "cell_type": "code",
   "execution_count": null,
   "id": "1d932609",
   "metadata": {},
   "outputs": [],
   "source": [
    "def hay_ciclos(grafo):\n",
    "    "
   ]
  }
 ],
 "metadata": {
  "language_info": {
   "name": "python"
  }
 },
 "nbformat": 4,
 "nbformat_minor": 5
}
