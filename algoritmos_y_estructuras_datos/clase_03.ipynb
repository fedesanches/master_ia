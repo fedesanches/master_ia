{
 "cells": [
  {
   "cell_type": "code",
   "execution_count": 1,
   "id": "54bbcd89",
   "metadata": {},
   "outputs": [
    {
     "name": "stdout",
     "output_type": "stream",
     "text": [
      "Nodo(\n",
      "None\n",
      "  ,\n",
      "  1\n",
      "  ,\n",
      "  Nodo(\n",
      "    Nodo(\n",
      "None\n",
      "      ,\n",
      "      2\n",
      "      ,\n",
      "None\n",
      "      )\n",
      "    ,\n",
      "    3\n",
      "    ,\n",
      "    Nodo(\n",
      "None\n",
      "      ,\n",
      "      4\n",
      "      ,\n",
      "None\n",
      "      )\n",
      "    )\n",
      "  )\n"
     ]
    }
   ],
   "source": [
    "#Ejercicio 1\n",
    "class Nodo:\n",
    "    def __init__(self, left, value, right):\n",
    "        self.left = left\n",
    "        self.value = value\n",
    "        self.right = right\n",
    "        \n",
    "\n",
    "arbol_ejemplo = Nodo(None, 1, Nodo(Nodo(None, 2, None), 3, Nodo(None, 4, None)))\n",
    "\n",
    "def sangria(nivel):\n",
    "    return \"  \" * nivel\n",
    "\n",
    "def mostrar(a, nivel=0):\n",
    "    if a is None:\n",
    "        print(\"None\")\n",
    "    else:\n",
    "        print(sangria(nivel) + \"Nodo(\")\n",
    "        mostrar(a.left, nivel + 1)\n",
    "        print(sangria(nivel + 1) + \",\")\n",
    "        print(sangria(nivel + 1) + str(a.value))\n",
    "        print(sangria(nivel + 1) + \",\")\n",
    "        mostrar(a.right, nivel + 1)\n",
    "        print(sangria(nivel + 1) + \")\")\n",
    "\n",
    "mostrar(arbol_ejemplo)"
   ]
  },
  {
   "cell_type": "code",
   "execution_count": 12,
   "id": "e680fb07",
   "metadata": {},
   "outputs": [
    {
     "name": "stdout",
     "output_type": "stream",
     "text": [
      "{0: [1], 1: [3], 2: [2, 4]}\n"
     ]
    }
   ],
   "source": [
    "def suma_lista_de_niveles(l1, l2):\n",
    "    i = 0\n",
    "    res = []\n",
    "    while i < len(l1) and i < len(l2):\n",
    "        res.append(l1[i] + l2[i])\n",
    "        i += 1\n",
    "    res.extend(l1[i:])\n",
    "    res.extend(l2[i:])\n",
    "    return res\n",
    "    \n",
    "def niveles(arbol):\n",
    "    if arbol is None:\n",
    "        return []\n",
    "    else:\n",
    "        return [[arbol.value]] + suma_lista_de_niveles(niveles(arbol.left), niveles(arbol.right))\n",
    "\n",
    "def niveles2(arbol, nivel, dic):\n",
    "    if arbol is None:\n",
    "        return\n",
    "    else:\n",
    "        if nivel not in dic:\n",
    "            dic[nivel] = []\n",
    "        dic[nivel].append(arbol.value)\n",
    "        niveles2(arbol.left, nivel + 1, dic)\n",
    "        niveles2(arbol.right, nivel + 1, dic)\n",
    "\n",
    "\n",
    "tabla = {}\n",
    "niveles2(arbol_ejemplo, 0, tabla)\n",
    "print(tabla)\n",
    "    "
   ]
  }
 ],
 "metadata": {
  "kernelspec": {
   "display_name": "Python 3",
   "language": "python",
   "name": "python3"
  },
  "language_info": {
   "codemirror_mode": {
    "name": "ipython",
    "version": 3
   },
   "file_extension": ".py",
   "mimetype": "text/x-python",
   "name": "python",
   "nbconvert_exporter": "python",
   "pygments_lexer": "ipython3",
   "version": "3.11.9"
  }
 },
 "nbformat": 4,
 "nbformat_minor": 5
}
